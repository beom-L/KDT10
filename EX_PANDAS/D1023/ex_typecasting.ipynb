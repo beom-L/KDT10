{
 "cells": [
  {
   "cell_type": "markdown",
   "id": "21de4e09",
   "metadata": {},
   "source": [
    "#### [ Pandas 자료형 변환 ]\n",
    "- 자료형 : object(str, mixed), int64, float64, bool, datetime64[ns], categorical\n",
    "- 변환\n",
    "    * DF.astype(), SR.astype()\n",
    "    * to_numeric()\n",
    "    * to_datetime()"
   ]
  },
  {
   "cell_type": "markdown",
   "id": "91444af7",
   "metadata": {},
   "source": [
    "[0] 모듈 로딩 및 데이터 준비 <hr>"
   ]
  },
  {
   "cell_type": "code",
   "execution_count": 10,
   "id": "d89a32b4",
   "metadata": {},
   "outputs": [],
   "source": [
    "## 모듈 로딩\n",
    "import pandas as pd"
   ]
  },
  {
   "cell_type": "code",
   "execution_count": 11,
   "id": "9e2d51ef",
   "metadata": {},
   "outputs": [
    {
     "name": "stdout",
     "output_type": "stream",
     "text": [
      "변환 전:\n",
      " age        object\n",
      "height    float64\n",
      "passed      int64\n",
      "name       object\n",
      "birth      object\n",
      "gender     object\n",
      "dtype: object\n"
     ]
    }
   ],
   "source": [
    "## DF 인스턴스 생성\n",
    "df = pd.DataFrame({\n",
    "        \"age\"    : ['23','45','30'],                                    ## 문자열 숫자\n",
    "        \"height\" : [170.5, 180.2, 160.3],                               ## 실수\n",
    "        \"passed\" : [1, 0, 1],                                           ## 정수(0/1)\n",
    "        \"name\"   : [\"Ann\", \"Hong\",'Lee'],                               ## 문자열\n",
    "        \"birth\"  : [\"2020-10-01\", '2000-01-01', '2005-12-24'],          ## 문자열 날짜\n",
    "        \"gender\" : [\"F\", \"M\", \"F\"]                                      ## 문자열\n",
    "})\n",
    "\n",
    "## 컬럼별 타입 정보 => dtypes\n",
    "print(\"변환 전:\\n\", df.dtypes)\n"
   ]
  },
  {
   "cell_type": "code",
   "execution_count": 12,
   "id": "05462272",
   "metadata": {},
   "outputs": [
    {
     "name": "stdout",
     "output_type": "stream",
     "text": [
      "int64\n"
     ]
    }
   ],
   "source": [
    "## ----------------------------------------------------------\n",
    "## 데이터가 가진 의미에 따라 타입 변환\n",
    "## ----------------------------------------------------------\n",
    "\n",
    "## 나이 : object ==> int\n",
    "df[\"age\"] = df[\"age\"].astype(int)       ## inplace 매개변수 X, 반드시 저장 필요 !  [원본 변경하는 메서드]\n",
    "\n",
    "print(df.age.dtype)"
   ]
  },
  {
   "cell_type": "code",
   "execution_count": 13,
   "id": "764ce0db",
   "metadata": {},
   "outputs": [
    {
     "name": "stdout",
     "output_type": "stream",
     "text": [
      "category\n"
     ]
    }
   ],
   "source": [
    "## 합격 여부 : int ==> category\n",
    "df[\"passed\"] = df[\"passed\"].astype(\"category\") ## inplace 매개변수 X, 반드시 저장 필요 !\n",
    "print(df.passed.dtype)"
   ]
  },
  {
   "cell_type": "code",
   "execution_count": null,
   "id": "db8c9e02",
   "metadata": {},
   "outputs": [
    {
     "name": "stdout",
     "output_type": "stream",
     "text": [
      "datetime64[ns]\n"
     ]
    }
   ],
   "source": [
    "## 생일 : object ==> datetime64[ns]\n",
    "# df[\"birth\"] = df[\"birth\"].astype(\"datetime64[ns]\") ## inplace 매개변수 X, 반드시 저장 필요 !\n",
    "df[\"birth\"] = pd.to_datetime(df[\"birth\"])  ## 이렇게 특정 컬럼을 주고 변경해도됨\n",
    "print(df.birth.dtype) "
   ]
  },
  {
   "cell_type": "code",
   "execution_count": 17,
   "id": "f57ba547",
   "metadata": {},
   "outputs": [
    {
     "name": "stdout",
     "output_type": "stream",
     "text": [
      "category\n"
     ]
    }
   ],
   "source": [
    "## 성별 : object ==> category\n",
    "df[\"gender\"] = df[\"gender\"].astype(\"category\") ## inplace 매개변수 X, 반드시 저장 필요 !\n",
    "print(df.gender.dtype) "
   ]
  },
  {
   "cell_type": "code",
   "execution_count": 18,
   "id": "ced27bda",
   "metadata": {},
   "outputs": [
    {
     "data": {
      "text/plain": [
       "age                int64\n",
       "height           float64\n",
       "passed          category\n",
       "name              object\n",
       "birth     datetime64[ns]\n",
       "gender          category\n",
       "dtype: object"
      ]
     },
     "execution_count": 18,
     "metadata": {},
     "output_type": "execute_result"
    }
   ],
   "source": [
    "df.dtypes"
   ]
  },
  {
   "cell_type": "code",
   "execution_count": null,
   "id": "03d7c3f9",
   "metadata": {},
   "outputs": [],
   "source": [
    "    "
   ]
  }
 ],
 "metadata": {
  "kernelspec": {
   "display_name": "DATA_311",
   "language": "python",
   "name": "python3"
  },
  "language_info": {
   "codemirror_mode": {
    "name": "ipython",
    "version": 3
   },
   "file_extension": ".py",
   "mimetype": "text/x-python",
   "name": "python",
   "nbconvert_exporter": "python",
   "pygments_lexer": "ipython3",
   "version": "3.11.14"
  }
 },
 "nbformat": 4,
 "nbformat_minor": 5
}
