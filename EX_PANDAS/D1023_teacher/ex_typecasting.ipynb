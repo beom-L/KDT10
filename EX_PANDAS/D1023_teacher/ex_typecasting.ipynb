{
 "cells": [
  {
   "cell_type": "markdown",
   "metadata": {},
   "source": [
    "### 【 Pandas 자료형 변환 】\n",
    "- 자료형 : object(str, mixed), int64, float64, bool, datetime64[ns], categorical\n",
    "- 변환\n",
    "    * DF.astype(), SR.astype()\n",
    "    * to_numeric()\n",
    "    * to_datetime()"
   ]
  },
  {
   "cell_type": "code",
   "execution_count": 10,
   "metadata": {},
   "outputs": [],
   "source": [
    "## 모듈 로딩\n",
    "import pandas as pd"
   ]
  },
  {
   "cell_type": "code",
   "execution_count": 11,
   "metadata": {},
   "outputs": [
    {
     "name": "stdout",
     "output_type": "stream",
     "text": [
      "변환 전:\n",
      " age        object\n",
      "height    float64\n",
      "passed      int64\n",
      "name       object\n",
      "birth      object\n",
      "gender     object\n",
      "dtype: object\n"
     ]
    }
   ],
   "source": [
    "## DF 인스턴스 생성\n",
    "df = pd.DataFrame({\n",
    "    \"age\"   : [\"23\", \"45\", \"30\"],                           # 문자열 숫자 *\n",
    "    \"height\": [170.5, 180.2, 160.3],                        # 실수\n",
    "    \"passed\": [1, 0, 1],                                    # 정수 (0/1) *\n",
    "    \"name\"  : [\"Ann\",\"Hong\",\"Lee\"],                         # 문자열\n",
    "    \"birth\" : [\"2020-10-01\",\"2000-01-01\", \"2005-12-24\"],    # 문자열 날짜 *\n",
    "    \"gender\": [\"F\", \"M\", \"F\"]                               # 문자열      *\n",
    "})\n",
    "\n",
    "## 컬럼별 타입 정보 => dtypes\n",
    "print(\"변환 전:\\n\", df.dtypes)"
   ]
  },
  {
   "cell_type": "code",
   "execution_count": 19,
   "metadata": {},
   "outputs": [
    {
     "name": "stdout",
     "output_type": "stream",
     "text": [
      "변환 확인 : int8\n"
     ]
    }
   ],
   "source": [
    "## --------------------------------------------------------\n",
    "## 데이터가 가진 의미에 따라 타입 변환\n",
    "## --------------------------------------------------------\n",
    "\n",
    "## 나이 : object ==> int\n",
    "df[\"age\"] = df[\"age\"].astype('int8')     ## inplace 매개변수 X. 반드시 저장 필요!\n",
    "\n",
    "print(\"변환 확인 :\" , df.age.dtype)\n"
   ]
  },
  {
   "cell_type": "code",
   "execution_count": 13,
   "metadata": {},
   "outputs": [
    {
     "name": "stdout",
     "output_type": "stream",
     "text": [
      "변환 확인 : category\n"
     ]
    }
   ],
   "source": [
    "## 합격여부 : int ==> category\n",
    "df[\"passed\"] = df[\"passed\"].astype(\"category\")     ## inplace 매개변수 X. 반드시 저장 필요!\n",
    "\n",
    "print(\"변환 확인 :\" , df.passed.dtype)\n"
   ]
  },
  {
   "cell_type": "code",
   "execution_count": 14,
   "metadata": {},
   "outputs": [
    {
     "name": "stdout",
     "output_type": "stream",
     "text": [
      "변환 확인 : string\n"
     ]
    }
   ],
   "source": [
    "## 이름 : object ==> string\n",
    "df[\"name\"] = df[\"name\"].astype(\"string\")     ## inplace 매개변수 X. 반드시 저장 필요!\n",
    "\n",
    "print(\"변환 확인 :\" , df.name.dtype)\n",
    "\n"
   ]
  },
  {
   "cell_type": "code",
   "execution_count": null,
   "metadata": {},
   "outputs": [
    {
     "name": "stdout",
     "output_type": "stream",
     "text": [
      "변환 확인 : datetime64[ns]\n"
     ]
    }
   ],
   "source": [
    "## 생일 : object ==> datetime64[ns]\n",
    "#df[\"birth\"] = df[\"birth\"].astype(\"datetime64[ns]\")     ## inplace 매개변수 X. 반드시 저장 필요!\n",
    "\n",
    "df[\"birth\"]  = pd.to_datetime(df[\"birth\"])\n",
    "\n",
    "print(\"변환 확인 :\" , df.birth.dtype)\n",
    "\n"
   ]
  },
  {
   "cell_type": "code",
   "execution_count": 18,
   "metadata": {},
   "outputs": [
    {
     "name": "stdout",
     "output_type": "stream",
     "text": [
      "변환 확인 : category\n",
      "전체 확인\n",
      " age                int64\n",
      "height           float64\n",
      "passed          category\n",
      "name      string[python]\n",
      "birth     datetime64[ns]\n",
      "gender          category\n",
      "dtype: object\n"
     ]
    }
   ],
   "source": [
    "## 성별 : object ==> category\n",
    "df[\"gender\"] = df[\"gender\"].astype(\"category\")     \n",
    "print(\"변환 확인 :\" , df.gender.dtype)\n",
    "\n",
    "\n",
    "## 전체 확인\n",
    "print(\"전체 확인\\n\", df.dtypes)\n"
   ]
  },
  {
   "cell_type": "markdown",
   "metadata": {},
   "source": [
    "[3] 문자열 => 날짜시간 타입으로<hr>"
   ]
  },
  {
   "cell_type": "code",
   "execution_count": null,
   "metadata": {},
   "outputs": [
    {
     "name": "stdout",
     "output_type": "stream",
     "text": [
      "0    2025\n",
      "1    2025\n",
      "2    2025\n",
      "dtype: int32\n",
      "0    Wednesday\n",
      "1     Thursday\n",
      "2       Friday\n",
      "dtype: object\n"
     ]
    }
   ],
   "source": [
    "date_s = pd.Series([\"2025-10-01\", \"2025/10/02\", \"Oct 03, 2025\"])\n",
    "\n",
    "# 문자열 → datetime 형으로\n",
    "date_s = pd.to_datetime(date_s, format=\"mixed\") \n",
    "\n",
    "print(date_s.dt.year)\n",
    "print(date_s.dt.day_name())\n"
   ]
  },
  {
   "cell_type": "markdown",
   "metadata": {},
   "source": [
    "[4] 여러 컬럼을 한꺼번에<hr>"
   ]
  },
  {
   "cell_type": "code",
   "execution_count": 10,
   "metadata": {},
   "outputs": [
    {
     "name": "stdout",
     "output_type": "stream",
     "text": [
      "A      int64\n",
      "B    float64\n",
      "dtype: object\n"
     ]
    }
   ],
   "source": [
    "df = pd.DataFrame({\n",
    "    \"A\": [\"1\", \"2\", \"3\"],\n",
    "    \"B\": [\"4.1\", \"5.2\", \"6.3\"]\n",
    "})\n",
    "\n",
    "# 여러 열을 한 번에 변환\n",
    "df = df.astype({\"A\": \"int\", \"B\": \"float\"})\n",
    "print(df.dtypes)"
   ]
  },
  {
   "cell_type": "code",
   "execution_count": 12,
   "metadata": {},
   "outputs": [
    {
     "name": "stdout",
     "output_type": "stream",
     "text": [
      "0    10.0\n",
      "1    20.0\n",
      "2     NaN\n",
      "3    40.0\n",
      "dtype: float64\n"
     ]
    }
   ],
   "source": [
    "s = pd.Series([\"10\", \"20\", \"??\", \"40\"])\n",
    "\n",
    "# 에러 발생 (??는 숫자가 아님)\n",
    "# s.astype(int)  # ValueError 발생!\n",
    "\n",
    "# 안전하게 변환: 숫자만 변환하고 나머지는 NaN 처리\n",
    "s = pd.to_numeric(s, errors=\"coerce\")\n",
    "print(s)\n"
   ]
  }
 ],
 "metadata": {
  "kernelspec": {
   "display_name": "DATA_311",
   "language": "python",
   "name": "python3"
  },
  "language_info": {
   "codemirror_mode": {
    "name": "ipython",
    "version": 3
   },
   "file_extension": ".py",
   "mimetype": "text/x-python",
   "name": "python",
   "nbconvert_exporter": "python",
   "pygments_lexer": "ipython3",
   "version": "3.11.14"
  }
 },
 "nbformat": 4,
 "nbformat_minor": 2
}
