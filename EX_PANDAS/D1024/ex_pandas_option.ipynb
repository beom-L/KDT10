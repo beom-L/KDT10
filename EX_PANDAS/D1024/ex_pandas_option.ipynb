{
 "cells": [
  {
   "cell_type": "markdown",
   "metadata": {},
   "source": [
    "### 판다스 사용 옵션 설정\n",
    "- 판다스 패키지에서 사용 위한 옵션 속성 제공\n",
    "- 메서드\n",
    "    * pandas.get_option('옵션속성명') : 해당 옵션 현재 설정값 반환\n",
    "    * pandas.set_option('옵션속성명', 새로운_값) : 새로운 설정값 적용\n",
    "- https://pandas.pydata.org/docs/user_guide/options.html"
   ]
  },
  {
   "cell_type": "code",
   "execution_count": 1,
   "metadata": {},
   "outputs": [],
   "source": [
    "## 모듈 로딩 \n",
    "import pandas as pd "
   ]
  },
  {
   "cell_type": "code",
   "execution_count": null,
   "metadata": {},
   "outputs": [
    {
     "name": "stdout",
     "output_type": "stream",
     "text": [
      "[현재] display.max_rows : 20\n",
      "[현재] display.max_columns : 20\n",
      "[현재] display.max_colwidth : 50\n",
      "--------------------------------------\n",
      "[변경] display.max_rows : 40\n",
      "[변경] display.max_columns : 40\n",
      "[변경] display.max_colwidth : None\n"
     ]
    }
   ],
   "source": [
    "## 현재 설정된 옵션값 확인.\n",
    "##   pd.get_option : Pandas의 설정 옵션을 조회하는 함수\n",
    "print(f'[현재] display.max_rows : {pd.get_option(\"display.max_rows\")}')\n",
    "print(f'[현재] display.max_columns : {pd.get_option(\"display.max_columns\")}')\n",
    "print(f'[현재] display.max_colwidth : {pd.get_option(\"display.max_colwidth\")}')\n",
    "print('--------------------------------------')\n",
    "\n",
    "\n",
    "## 새롭게 설정값 적용\n",
    "pd.options.display.max_columns = 40\n",
    "pd.set_option(\"display.max_rows\", 40)\n",
    "pd.options.display.max_colwidth = None\n",
    "\n",
    "print(f'[변경] display.max_rows : {pd.get_option(\"display.max_rows\")}')\n",
    "print(f'[변경] display.max_columns : {pd.get_option(\"display.max_columns\")}')\n",
    "print(f'[변경] display.max_colwidth : {pd.get_option(\"display.max_colwidth\")}')"
   ]
  },
  {
   "cell_type": "code",
   "execution_count": null,
   "metadata": {},
   "outputs": [
    {
     "name": "stdout",
     "output_type": "stream",
     "text": [
      "display.max_columns : int\n",
      "    If max_cols is exceeded, switch to truncate view. Depending on\n",
      "    `large_repr`, objects are either centrally truncated or printed as\n",
      "    a summary view. 'None' value means unlimited.\n",
      "\n",
      "    In case python/IPython is running in a terminal and `large_repr`\n",
      "    equals 'truncate' this can be set to 0 or None and pandas will auto-detect\n",
      "    the width of the terminal and print a truncated object which fits\n",
      "    the screen width. The IPython notebook, IPython qtconsole, or IDLE\n",
      "    do not run in a terminal and hence it is not possible to do\n",
      "    correct auto-detection and defaults to 20.\n",
      "    [default: 20] [currently: 40]\n"
     ]
    }
   ],
   "source": [
    "## 옵션 설명\n",
    "pd.describe_option('display.max_columns')\n",
    "pd.describe_option('display.max_colwidth')"
   ]
  },
  {
   "cell_type": "code",
   "execution_count": 5,
   "metadata": {},
   "outputs": [],
   "source": [
    "## Notebook > Output: Word Wrap 옵션(체크박스)을 찾아 활성화\n",
    "## Settings >> 검색 입력창   notebook output 입력하고 Word Wrap 찾기"
   ]
  },
  {
   "cell_type": "code",
   "execution_count": null,
   "metadata": {},
   "outputs": [],
   "source": [
    "##=> 모든 데이터프레임 열이 잘리지 않고 전체 너비로 표시 \n",
    "pd.set_option('display.max_colwidth', None)"
   ]
  },
  {
   "cell_type": "code",
   "execution_count": null,
   "metadata": {},
   "outputs": [],
   "source": [
    "##=> 넘파이(NumPy) 배열 출력 너비 조절\n",
    "import numpy as np\n",
    " \n",
    "np.set_printoptions(linewidth=100)"
   ]
  }
 ],
 "metadata": {
  "kernelspec": {
   "display_name": "DATA_311",
   "language": "python",
   "name": "python3"
  },
  "language_info": {
   "codemirror_mode": {
    "name": "ipython",
    "version": 3
   },
   "file_extension": ".py",
   "mimetype": "text/x-python",
   "name": "python",
   "nbconvert_exporter": "python",
   "pygments_lexer": "ipython3",
   "version": "3.11.14"
  }
 },
 "nbformat": 4,
 "nbformat_minor": 2
}
