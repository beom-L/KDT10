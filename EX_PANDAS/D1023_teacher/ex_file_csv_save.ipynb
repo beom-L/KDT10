{
 "cells": [
  {
   "cell_type": "markdown",
   "metadata": {},
   "source": [
    "###  파일 입력과 출력\n",
    "- pandas.read_XXX() : 다양한 포맷의 파일 ==> DataFrame으로 변환\n",
    "    * 파일 종류에 따라서 변환 시 설정 필요함!\n",
    "- pandas.to_XXX() : DataFrame ==> 다양한 포맷 str 또는 file 변환"
   ]
  },
  {
   "cell_type": "code",
   "execution_count": 1,
   "metadata": {},
   "outputs": [],
   "source": [
    "## [1] 모듈 로딩 \n",
    "import pandas as pd "
   ]
  },
  {
   "cell_type": "code",
   "execution_count": 6,
   "metadata": {},
   "outputs": [
    {
     "data": {
      "text/html": [
       "<div>\n",
       "<style scoped>\n",
       "    .dataframe tbody tr th:only-of-type {\n",
       "        vertical-align: middle;\n",
       "    }\n",
       "\n",
       "    .dataframe tbody tr th {\n",
       "        vertical-align: top;\n",
       "    }\n",
       "\n",
       "    .dataframe thead th {\n",
       "        text-align: right;\n",
       "    }\n",
       "</style>\n",
       "<table border=\"1\" class=\"dataframe\">\n",
       "  <thead>\n",
       "    <tr style=\"text-align: right;\">\n",
       "      <th></th>\n",
       "      <th>kor</th>\n",
       "      <th>eng</th>\n",
       "      <th>fra</th>\n",
       "    </tr>\n",
       "  </thead>\n",
       "  <tbody>\n",
       "    <tr>\n",
       "      <th>0</th>\n",
       "      <td>10</td>\n",
       "      <td>20</td>\n",
       "      <td>30</td>\n",
       "    </tr>\n",
       "    <tr>\n",
       "      <th>1</th>\n",
       "      <td>11</td>\n",
       "      <td>21</td>\n",
       "      <td>31</td>\n",
       "    </tr>\n",
       "    <tr>\n",
       "      <th>2</th>\n",
       "      <td>12</td>\n",
       "      <td>22</td>\n",
       "      <td>32</td>\n",
       "    </tr>\n",
       "  </tbody>\n",
       "</table>\n",
       "</div>"
      ],
      "text/plain": [
       "   kor  eng  fra\n",
       "0   10   20   30\n",
       "1   11   21   31\n",
       "2   12   22   32"
      ]
     },
     "metadata": {},
     "output_type": "display_data"
    }
   ],
   "source": [
    "## [2] DataFrame => CSV 변환 :  pandas.to_csv()\n",
    "FILE_NAME = '../Data/test_save.csv'\n",
    "\n",
    "dataDF = pd.DataFrame([[10, 20, 30],\n",
    "                       [11, 21, 31],\n",
    "                       [12, 22, 32]], columns=['kor','eng','fra'])\n",
    "\n",
    "display( dataDF )\n",
    "\n",
    "## DataFrame ==> csv 파일로\n",
    "dataDF.to_csv(FILE_NAME, index=False)\n",
    "\n",
    "\n",
    "FILE_NAME = '../Data/test_save2.csv'\n",
    "dataDF.to_csv(FILE_NAME, index=False, sep=' ')\n"
   ]
  },
  {
   "cell_type": "code",
   "execution_count": 10,
   "metadata": {},
   "outputs": [
    {
     "name": "stdout",
     "output_type": "stream",
     "text": [
      "[[10 20 30]\n",
      " [11 21 31]\n",
      " [12 22 32]]\n",
      "<class 'str'>\n",
      "   kor  eng  fra\n",
      "0   10   20   30\n",
      "1   11   21   31\n",
      "2   12   22   32\n"
     ]
    }
   ],
   "source": [
    "## -------------------------------------------------\n",
    "## DataFrame의 다양한 형식 저장 : DF.to_OOO()\n",
    "## -------------------------------------------------\n",
    "## DF => numpy 저장\n",
    "result = dataDF.to_numpy()\n",
    "print( result )\n",
    "\n",
    "## DF => string 저장\n",
    "result = dataDF.to_string()\n",
    "print( type(result), result , sep='\\n')"
   ]
  },
  {
   "cell_type": "code",
   "execution_count": 14,
   "metadata": {},
   "outputs": [
    {
     "data": {
      "text/plain": [
       "0    10\n",
       "1    11\n",
       "2    12\n",
       "Name: kor, dtype: int64"
      ]
     },
     "metadata": {},
     "output_type": "display_data"
    },
    {
     "name": "stdout",
     "output_type": "stream",
     "text": [
      "[10 11 12]\n"
     ]
    },
    {
     "data": {
      "text/html": [
       "<div>\n",
       "<style scoped>\n",
       "    .dataframe tbody tr th:only-of-type {\n",
       "        vertical-align: middle;\n",
       "    }\n",
       "\n",
       "    .dataframe tbody tr th {\n",
       "        vertical-align: top;\n",
       "    }\n",
       "\n",
       "    .dataframe thead th {\n",
       "        text-align: right;\n",
       "    }\n",
       "</style>\n",
       "<table border=\"1\" class=\"dataframe\">\n",
       "  <thead>\n",
       "    <tr style=\"text-align: right;\">\n",
       "      <th></th>\n",
       "      <th>kor</th>\n",
       "    </tr>\n",
       "  </thead>\n",
       "  <tbody>\n",
       "    <tr>\n",
       "      <th>0</th>\n",
       "      <td>10</td>\n",
       "    </tr>\n",
       "    <tr>\n",
       "      <th>1</th>\n",
       "      <td>11</td>\n",
       "    </tr>\n",
       "    <tr>\n",
       "      <th>2</th>\n",
       "      <td>12</td>\n",
       "    </tr>\n",
       "  </tbody>\n",
       "</table>\n",
       "</div>"
      ],
      "text/plain": [
       "   kor\n",
       "0   10\n",
       "1   11\n",
       "2   12"
      ]
     },
     "metadata": {},
     "output_type": "display_data"
    }
   ],
   "source": [
    "## kor 컬럼 선택 \n",
    "korSR = dataDF['kor']\n",
    "display(korSR) \n",
    "\n",
    "## Series => numpy \n",
    "print( korSR.to_numpy() )\n",
    "\n",
    "## Series => DataFrame\n",
    "korDF = korSR.to_frame()\n",
    "display(korDF)"
   ]
  },
  {
   "cell_type": "code",
   "execution_count": null,
   "metadata": {},
   "outputs": [],
   "source": []
  }
 ],
 "metadata": {
  "kernelspec": {
   "display_name": "DATA_311",
   "language": "python",
   "name": "python3"
  },
  "language_info": {
   "codemirror_mode": {
    "name": "ipython",
    "version": 3
   },
   "file_extension": ".py",
   "mimetype": "text/x-python",
   "name": "python",
   "nbconvert_exporter": "python",
   "pygments_lexer": "ipython3",
   "version": "3.11.14"
  }
 },
 "nbformat": 4,
 "nbformat_minor": 2
}
