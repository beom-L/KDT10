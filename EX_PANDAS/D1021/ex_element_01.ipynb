{
 "cells": [
  {
   "cell_type": "markdown",
   "id": "7951eef7",
   "metadata": {},
   "source": [
    "### [ 행/열/원소 선택 ]\n",
    "- Series => 원소 삭제\n",
    "- DataFrame => 행, 열, 원소 선택\n",
    "\n",
    "- 속성 => 정수/위치 인덱스, 라벨 인덱스 또는 인덱스 라벨\n",
    "    * 객체변수명[인덱스] => 객체변수명.iloc[정수인덱스], 객체변수명.loc[라벨인덱스]"
   ]
  },
  {
   "cell_type": "markdown",
   "id": "8fbad374",
   "metadata": {},
   "source": [
    "[ Series 원소 선택 ] <hr>"
   ]
  },
  {
   "cell_type": "code",
   "execution_count": 42,
   "id": "e3107bd1",
   "metadata": {},
   "outputs": [
    {
     "name": "stdout",
     "output_type": "stream",
     "text": [
      "2.3.3\n"
     ]
    }
   ],
   "source": [
    "## 모듈 설정\n",
    "import pandas as pd\n",
    "\n",
    "print(pd.__version__)"
   ]
  },
  {
   "cell_type": "code",
   "execution_count": 43,
   "id": "d6d00ecd",
   "metadata": {},
   "outputs": [
    {
     "data": {
      "text/plain": [
       "a    10\n",
       "b     9\n",
       "c    22\n",
       "d     5\n",
       "e    77\n",
       "f     2\n",
       "dtype: int64"
      ]
     },
     "metadata": {},
     "output_type": "display_data"
    },
    {
     "data": {
      "text/plain": [
       "Index(['a', 'b', 'c', 'd', 'e', 'f'], dtype='object')"
      ]
     },
     "metadata": {},
     "output_type": "display_data"
    }
   ],
   "source": [
    "## 임의의 데이터\n",
    "data_dict = {'a':10, 'b':9, 'c':22, 'd':5, 'e':77, 'f':2}\n",
    "\n",
    "## 시리즈 인스턴스 생성\n",
    "dataSR = pd.Series(data_dict)\n",
    "\n",
    "## 출력\n",
    "display(dataSR, dataSR.index)"
   ]
  },
  {
   "cell_type": "code",
   "execution_count": 44,
   "id": "3f5972a8",
   "metadata": {},
   "outputs": [
    {
     "name": "stdout",
     "output_type": "stream",
     "text": [
      "one_data\n",
      "10\n",
      "<class 'numpy.int64'>\n",
      "one_data\n",
      "10\n",
      "<class 'numpy.int64'>\n",
      "Index(['a', 'b', 'c', 'd', 'e', 'f'], dtype='object')\n",
      "one_data\n",
      "10\n",
      "<class 'numpy.int64'>\n"
     ]
    }
   ],
   "source": [
    "## ---------------------------------\n",
    "## 원소 1개 선택 => Series변수명[인덱스]\n",
    "## ---------------------------------\n",
    "## => 'a' 원소 1개 선택\n",
    "one_data = dataSR['a']\n",
    "print(\"one_data\", one_data, type(one_data), sep='\\n')\n",
    "\n",
    "\n",
    "## ---------------------------------\n",
    "## 원소 1개 선택 => Series변수명.loc[라벨인덱스]\n",
    "## ---------------------------------\n",
    "## => 'a' 원소 1개 선택\n",
    "one_data = dataSR.loc['a']\n",
    "print(\"one_data\", one_data, type(one_data), sep='\\n')\n",
    "\n",
    "\n",
    "## ---------------------------------\n",
    "## 원소 1개 선택 => Series변수명.iloc[정수인덱스]\n",
    "## ---------------------------------\n",
    "## => 'a' 원소 1개 선택\n",
    "print(dataSR.index)\n",
    "\n",
    "one_data = dataSR.iloc[0]                                   ## 'a'는 왜 안되지..?\n",
    "print(\"one_data\", one_data, type(one_data), sep='\\n')"
   ]
  },
  {
   "cell_type": "code",
   "execution_count": null,
   "id": "f45b87b7",
   "metadata": {},
   "outputs": [
    {
     "data": {
      "text/plain": [
       "0    10\n",
       "1     9\n",
       "2    22\n",
       "3     5\n",
       "4    77\n",
       "5     2\n",
       "dtype: int64"
      ]
     },
     "metadata": {},
     "output_type": "display_data"
    },
    {
     "data": {
      "text/plain": [
       "Index([0, 1, 2, 3, 4, 5], dtype='int64')"
      ]
     },
     "metadata": {},
     "output_type": "display_data"
    },
    {
     "name": "stdout",
     "output_type": "stream",
     "text": [
      "22 9 22\n"
     ]
    }
   ],
   "source": [
    "## 현재 인덱스는 object 타입의 라벨 인덱스 + [기본] 정수 인덱스 제공\n",
    "## => 변경 인덱스를 int타입의 정수 인덱스로 변경\n",
    "dataSR.index=[0,1,2,3,4,5]\n",
    "display(dataSR, dataSR.index)\n",
    "\n",
    "## => 원소 읽기 선택\n",
    "print(dataSR[2], dataSR.iloc[1], dataSR.loc[2])"
   ]
  },
  {
   "cell_type": "code",
   "execution_count": null,
   "id": "e62be5af",
   "metadata": {},
   "outputs": [
    {
     "data": {
      "text/plain": [
       "0    10\n",
       "3     5\n",
       "5     2\n",
       "dtype: int64"
      ]
     },
     "metadata": {},
     "output_type": "display_data"
    },
    {
     "data": {
      "text/plain": [
       "pandas.core.series.Series"
      ]
     },
     "metadata": {},
     "output_type": "display_data"
    },
    {
     "data": {
      "text/plain": [
       "0    10\n",
       "3     5\n",
       "5     2\n",
       "dtype: int64"
      ]
     },
     "metadata": {},
     "output_type": "display_data"
    },
    {
     "data": {
      "text/plain": [
       "pandas.core.series.Series"
      ]
     },
     "metadata": {},
     "output_type": "display_data"
    },
    {
     "data": {
      "text/plain": [
       "0    10\n",
       "3     5\n",
       "5     2\n",
       "dtype: int64"
      ]
     },
     "metadata": {},
     "output_type": "display_data"
    },
    {
     "data": {
      "text/plain": [
       "pandas.core.series.Series"
      ]
     },
     "metadata": {},
     "output_type": "display_data"
    }
   ],
   "source": [
    "## -------------------------------------------------------------------------\n",
    "## 원소 여러개 선택 => Series변수명[ [인덱스1, 인덱스2, ..., 인덱스n] ]\n",
    "##                   Series변수명.iloc[ [인덱스1, 인덱스2, ..., 인덱스n] ]\n",
    "##                   Series변수명.loc[ [인덱스1, 인덱스2, ..., 인덱스n] ]\n",
    "## -------------------------------------------------------------------------\n",
    "## => 0번, 3번, 5번 3개 선택\n",
    "ret = dataSR[ [0,3,5] ]\n",
    "ret2 = dataSR.iloc[ [0,3,5] ]\n",
    "ret3 = dataSR.loc[ [0,3,5] ]\n",
    "\n",
    "display(ret, type(ret) )\n",
    "display(ret2, type(ret2) )\n",
    "display(ret3, type(ret3) )"
   ]
  },
  {
   "cell_type": "code",
   "execution_count": 53,
   "id": "9529442b",
   "metadata": {},
   "outputs": [
    {
     "name": "stdout",
     "output_type": "stream",
     "text": [
      "-----3개원소 0번, 2번, 4번-----\n"
     ]
    },
    {
     "data": {
      "text/plain": [
       "0    10\n",
       "2    22\n",
       "4    77\n",
       "dtype: int64"
      ]
     },
     "metadata": {},
     "output_type": "display_data"
    },
    {
     "data": {
      "text/plain": [
       "pandas.core.series.Series"
      ]
     },
     "metadata": {},
     "output_type": "display_data"
    },
    {
     "data": {
      "text/plain": [
       "0    10\n",
       "2    22\n",
       "4    77\n",
       "dtype: int64"
      ]
     },
     "metadata": {},
     "output_type": "display_data"
    },
    {
     "data": {
      "text/plain": [
       "pandas.core.series.Series"
      ]
     },
     "metadata": {},
     "output_type": "display_data"
    },
    {
     "data": {
      "text/plain": [
       "0    10\n",
       "2    22\n",
       "4    77\n",
       "dtype: int64"
      ]
     },
     "metadata": {},
     "output_type": "display_data"
    },
    {
     "data": {
      "text/plain": [
       "pandas.core.series.Series"
      ]
     },
     "metadata": {},
     "output_type": "display_data"
    }
   ],
   "source": [
    "#------------------------------------------------------\n",
    "## 원소 여러개 선택 => Series변수명[ 시작인덱스 : 끝인덱스+1 : 간격 ]\n",
    "#                    Series변수명.iloc[ 시작인덱스 : 끝인덱스+1 : 간격 ]\n",
    "#                    Series변수명.loc[ 시작인덱스 : 끝인덱스 : 간격 ]\n",
    "#------------------------------------------------------\n",
    "##=> 0번, 2번, 4번 3개 선택\n",
    "# ret=dataSR[0:5:2]\n",
    "# ret2=dataSR.iloc[0:5:2]\n",
    "# ret3=dataSR.loc[0:5:2]\n",
    "ret=dataSR[::2]\n",
    "ret2=dataSR.iloc[::2]\n",
    "ret3=dataSR.loc[::2]\n",
    "\n",
    "print('-----3개원소 0번, 2번, 4번-----')\n",
    "display(ret,type(ret))\n",
    "display(ret2,type(ret2))\n",
    "display(ret3,type(ret3))\n"
   ]
  },
  {
   "cell_type": "code",
   "execution_count": null,
   "id": "2d83ac66",
   "metadata": {},
   "outputs": [
    {
     "name": "stdout",
     "output_type": "stream",
     "text": [
      "-----4개원소 0번 ~ 3번 -----\n"
     ]
    },
    {
     "data": {
      "text/plain": [
       "0    10\n",
       "1     9\n",
       "2    22\n",
       "3     5\n",
       "dtype: int64"
      ]
     },
     "metadata": {},
     "output_type": "display_data"
    },
    {
     "data": {
      "text/plain": [
       "pandas.core.series.Series"
      ]
     },
     "metadata": {},
     "output_type": "display_data"
    },
    {
     "data": {
      "text/plain": [
       "0    10\n",
       "1     9\n",
       "2    22\n",
       "3     5\n",
       "dtype: int64"
      ]
     },
     "metadata": {},
     "output_type": "display_data"
    },
    {
     "data": {
      "text/plain": [
       "pandas.core.series.Series"
      ]
     },
     "metadata": {},
     "output_type": "display_data"
    }
   ],
   "source": [
    "##=> 0번~3번 3개 선택\n",
    "ret4 = dataSR.iloc[:4]  ## .iloc[시작:끝]  시작 <= ~ <  끝    ## 인덱스라서 원래 우리가 하는거랑 비슷하다고 생각하기\n",
    "ret5 = dataSR.loc[:3]   ##  .loc[시작:끝]  시작 <= ~ <= 끝    \n",
    "\n",
    "print('-----4개원소 0번 ~ 3번 -----')\n",
    "display(ret4,type(ret4))\n",
    "display(ret5,type(ret5))"
   ]
  },
  {
   "cell_type": "code",
   "execution_count": 13,
   "id": "060887e9",
   "metadata": {},
   "outputs": [
    {
     "data": {
      "text/plain": [
       "a    10\n",
       "c    22\n",
       "d     5\n",
       "f     2\n",
       "dtype: int64"
      ]
     },
     "metadata": {},
     "output_type": "display_data"
    },
    {
     "data": {
      "text/plain": [
       "a    10\n",
       "b     9\n",
       "c    22\n",
       "d     5\n",
       "e    77\n",
       "f     2\n",
       "dtype: int64"
      ]
     },
     "metadata": {},
     "output_type": "display_data"
    },
    {
     "data": {
      "text/plain": [
       "a    10\n",
       "c    22\n",
       "d     5\n",
       "f     2\n",
       "dtype: int64"
      ]
     },
     "metadata": {},
     "output_type": "display_data"
    },
    {
     "data": {
      "text/plain": [
       "a    10\n",
       "c    22\n",
       "d     5\n",
       "f     2\n",
       "dtype: int64"
      ]
     },
     "metadata": {},
     "output_type": "display_data"
    }
   ],
   "source": [
    "## => [ idex 매개변수 ] 삭제 인덱스 설정\n",
    "dataSR1 = dataSR.drop(index = ['b','e'])\n",
    "display(dataSR1, dataSR)\n",
    "\n",
    "## => [ idex 매개변수 ] 삭제 인덱스 설정\n",
    "dataSR.drop(index = ['b','e'], inplace=True)  ## 원본 변경\n",
    "display(dataSR1, dataSR)"
   ]
  },
  {
   "cell_type": "markdown",
   "id": "ec1afd67",
   "metadata": {},
   "source": [
    "[ DataFrame의 행 삭제 ] <hr>"
   ]
  },
  {
   "cell_type": "code",
   "execution_count": 14,
   "id": "700311fe",
   "metadata": {},
   "outputs": [
    {
     "data": {
      "text/html": [
       "<div>\n",
       "<style scoped>\n",
       "    .dataframe tbody tr th:only-of-type {\n",
       "        vertical-align: middle;\n",
       "    }\n",
       "\n",
       "    .dataframe tbody tr th {\n",
       "        vertical-align: top;\n",
       "    }\n",
       "\n",
       "    .dataframe thead th {\n",
       "        text-align: right;\n",
       "    }\n",
       "</style>\n",
       "<table border=\"1\" class=\"dataframe\">\n",
       "  <thead>\n",
       "    <tr style=\"text-align: right;\">\n",
       "      <th></th>\n",
       "      <th>번호</th>\n",
       "      <th>이름</th>\n",
       "    </tr>\n",
       "  </thead>\n",
       "  <tbody>\n",
       "    <tr>\n",
       "      <th>0</th>\n",
       "      <td>1</td>\n",
       "      <td>홍</td>\n",
       "    </tr>\n",
       "    <tr>\n",
       "      <th>1</th>\n",
       "      <td>5</td>\n",
       "      <td>마</td>\n",
       "    </tr>\n",
       "    <tr>\n",
       "      <th>2</th>\n",
       "      <td>9</td>\n",
       "      <td>베</td>\n",
       "    </tr>\n",
       "  </tbody>\n",
       "</table>\n",
       "</div>"
      ],
      "text/plain": [
       "   번호 이름\n",
       "0   1  홍\n",
       "1   5  마\n",
       "2   9  베"
      ]
     },
     "metadata": {},
     "output_type": "display_data"
    },
    {
     "data": {
      "text/plain": [
       "Index(['번호', '이름'], dtype='object')"
      ]
     },
     "metadata": {},
     "output_type": "display_data"
    },
    {
     "data": {
      "text/plain": [
       "RangeIndex(start=0, stop=3, step=1)"
      ]
     },
     "metadata": {},
     "output_type": "display_data"
    }
   ],
   "source": [
    "## 데이터\n",
    "data_dict = {'번호':[1,5,9],\n",
    "             '이름':['홍','마','베']}\n",
    "\n",
    "## 데이터프레임 생성 : key => 컬럼명, Value => 세로 즉, 컬럼 데이터\n",
    "dataDF = pd.DataFrame(data_dict)\n",
    "\n",
    "## 출력\n",
    "display(dataDF, dataDF.columns, dataDF.index)"
   ]
  },
  {
   "cell_type": "code",
   "execution_count": 7,
   "id": "6abc574f",
   "metadata": {},
   "outputs": [
    {
     "data": {
      "text/html": [
       "<div>\n",
       "<style scoped>\n",
       "    .dataframe tbody tr th:only-of-type {\n",
       "        vertical-align: middle;\n",
       "    }\n",
       "\n",
       "    .dataframe tbody tr th {\n",
       "        vertical-align: top;\n",
       "    }\n",
       "\n",
       "    .dataframe thead th {\n",
       "        text-align: right;\n",
       "    }\n",
       "</style>\n",
       "<table border=\"1\" class=\"dataframe\">\n",
       "  <thead>\n",
       "    <tr style=\"text-align: right;\">\n",
       "      <th></th>\n",
       "      <th>번호</th>\n",
       "      <th>이름</th>\n",
       "    </tr>\n",
       "  </thead>\n",
       "  <tbody>\n",
       "    <tr>\n",
       "      <th>0</th>\n",
       "      <td>1</td>\n",
       "      <td>홍</td>\n",
       "    </tr>\n",
       "    <tr>\n",
       "      <th>1</th>\n",
       "      <td>5</td>\n",
       "      <td>마</td>\n",
       "    </tr>\n",
       "    <tr>\n",
       "      <th>2</th>\n",
       "      <td>9</td>\n",
       "      <td>베</td>\n",
       "    </tr>\n",
       "  </tbody>\n",
       "</table>\n",
       "</div>"
      ],
      "text/plain": [
       "   번호 이름\n",
       "0   1  홍\n",
       "1   5  마\n",
       "2   9  베"
      ]
     },
     "metadata": {},
     "output_type": "display_data"
    },
    {
     "data": {
      "text/html": [
       "<div>\n",
       "<style scoped>\n",
       "    .dataframe tbody tr th:only-of-type {\n",
       "        vertical-align: middle;\n",
       "    }\n",
       "\n",
       "    .dataframe tbody tr th {\n",
       "        vertical-align: top;\n",
       "    }\n",
       "\n",
       "    .dataframe thead th {\n",
       "        text-align: right;\n",
       "    }\n",
       "</style>\n",
       "<table border=\"1\" class=\"dataframe\">\n",
       "  <thead>\n",
       "    <tr style=\"text-align: right;\">\n",
       "      <th></th>\n",
       "      <th>번호</th>\n",
       "      <th>이름</th>\n",
       "    </tr>\n",
       "  </thead>\n",
       "  <tbody>\n",
       "    <tr>\n",
       "      <th>0</th>\n",
       "      <td>1</td>\n",
       "      <td>홍</td>\n",
       "    </tr>\n",
       "    <tr>\n",
       "      <th>2</th>\n",
       "      <td>9</td>\n",
       "      <td>베</td>\n",
       "    </tr>\n",
       "  </tbody>\n",
       "</table>\n",
       "</div>"
      ],
      "text/plain": [
       "   번호 이름\n",
       "0   1  홍\n",
       "2   9  베"
      ]
     },
     "metadata": {},
     "output_type": "display_data"
    },
    {
     "name": "stdout",
     "output_type": "stream",
     "text": [
      "========================================\n"
     ]
    },
    {
     "data": {
      "text/html": [
       "<div>\n",
       "<style scoped>\n",
       "    .dataframe tbody tr th:only-of-type {\n",
       "        vertical-align: middle;\n",
       "    }\n",
       "\n",
       "    .dataframe tbody tr th {\n",
       "        vertical-align: top;\n",
       "    }\n",
       "\n",
       "    .dataframe thead th {\n",
       "        text-align: right;\n",
       "    }\n",
       "</style>\n",
       "<table border=\"1\" class=\"dataframe\">\n",
       "  <thead>\n",
       "    <tr style=\"text-align: right;\">\n",
       "      <th></th>\n",
       "      <th>번호</th>\n",
       "      <th>이름</th>\n",
       "    </tr>\n",
       "  </thead>\n",
       "  <tbody>\n",
       "    <tr>\n",
       "      <th>0</th>\n",
       "      <td>1</td>\n",
       "      <td>홍</td>\n",
       "    </tr>\n",
       "    <tr>\n",
       "      <th>1</th>\n",
       "      <td>5</td>\n",
       "      <td>마</td>\n",
       "    </tr>\n",
       "    <tr>\n",
       "      <th>2</th>\n",
       "      <td>9</td>\n",
       "      <td>베</td>\n",
       "    </tr>\n",
       "  </tbody>\n",
       "</table>\n",
       "</div>"
      ],
      "text/plain": [
       "   번호 이름\n",
       "0   1  홍\n",
       "1   5  마\n",
       "2   9  베"
      ]
     },
     "metadata": {},
     "output_type": "display_data"
    },
    {
     "data": {
      "text/html": [
       "<div>\n",
       "<style scoped>\n",
       "    .dataframe tbody tr th:only-of-type {\n",
       "        vertical-align: middle;\n",
       "    }\n",
       "\n",
       "    .dataframe tbody tr th {\n",
       "        vertical-align: top;\n",
       "    }\n",
       "\n",
       "    .dataframe thead th {\n",
       "        text-align: right;\n",
       "    }\n",
       "</style>\n",
       "<table border=\"1\" class=\"dataframe\">\n",
       "  <thead>\n",
       "    <tr style=\"text-align: right;\">\n",
       "      <th></th>\n",
       "      <th>번호</th>\n",
       "      <th>이름</th>\n",
       "    </tr>\n",
       "  </thead>\n",
       "  <tbody>\n",
       "    <tr>\n",
       "      <th>0</th>\n",
       "      <td>1</td>\n",
       "      <td>홍</td>\n",
       "    </tr>\n",
       "    <tr>\n",
       "      <th>2</th>\n",
       "      <td>9</td>\n",
       "      <td>베</td>\n",
       "    </tr>\n",
       "  </tbody>\n",
       "</table>\n",
       "</div>"
      ],
      "text/plain": [
       "   번호 이름\n",
       "0   1  홍\n",
       "2   9  베"
      ]
     },
     "metadata": {},
     "output_type": "display_data"
    }
   ],
   "source": [
    "## ---------------------------------\n",
    "## 행 방향 데이터 삭제\n",
    "## ---------------------------------\n",
    "## => [ Labels, axis=0 매개변수 ] \n",
    "dataDF1 = dataDF.drop([1], axis=0)              ## 원본 유지\n",
    "display(dataDF, dataDF1)\n",
    "\n",
    "print('='*40)\n",
    "\n",
    "## => [ index 매개변수 ] \n",
    "dataDF1 = dataDF.drop(index = [1])                             ## 원본 유지\n",
    "display(dataDF, dataDF1)\n"
   ]
  },
  {
   "cell_type": "code",
   "execution_count": 8,
   "id": "64a19fa5",
   "metadata": {},
   "outputs": [
    {
     "data": {
      "text/html": [
       "<div>\n",
       "<style scoped>\n",
       "    .dataframe tbody tr th:only-of-type {\n",
       "        vertical-align: middle;\n",
       "    }\n",
       "\n",
       "    .dataframe tbody tr th {\n",
       "        vertical-align: top;\n",
       "    }\n",
       "\n",
       "    .dataframe thead th {\n",
       "        text-align: right;\n",
       "    }\n",
       "</style>\n",
       "<table border=\"1\" class=\"dataframe\">\n",
       "  <thead>\n",
       "    <tr style=\"text-align: right;\">\n",
       "      <th></th>\n",
       "      <th>번호</th>\n",
       "      <th>이름</th>\n",
       "    </tr>\n",
       "  </thead>\n",
       "  <tbody>\n",
       "    <tr>\n",
       "      <th>0</th>\n",
       "      <td>1</td>\n",
       "      <td>홍</td>\n",
       "    </tr>\n",
       "    <tr>\n",
       "      <th>1</th>\n",
       "      <td>5</td>\n",
       "      <td>마</td>\n",
       "    </tr>\n",
       "    <tr>\n",
       "      <th>2</th>\n",
       "      <td>9</td>\n",
       "      <td>베</td>\n",
       "    </tr>\n",
       "  </tbody>\n",
       "</table>\n",
       "</div>"
      ],
      "text/plain": [
       "   번호 이름\n",
       "0   1  홍\n",
       "1   5  마\n",
       "2   9  베"
      ]
     },
     "metadata": {},
     "output_type": "display_data"
    },
    {
     "data": {
      "text/html": [
       "<div>\n",
       "<style scoped>\n",
       "    .dataframe tbody tr th:only-of-type {\n",
       "        vertical-align: middle;\n",
       "    }\n",
       "\n",
       "    .dataframe tbody tr th {\n",
       "        vertical-align: top;\n",
       "    }\n",
       "\n",
       "    .dataframe thead th {\n",
       "        text-align: right;\n",
       "    }\n",
       "</style>\n",
       "<table border=\"1\" class=\"dataframe\">\n",
       "  <thead>\n",
       "    <tr style=\"text-align: right;\">\n",
       "      <th></th>\n",
       "      <th>이름</th>\n",
       "    </tr>\n",
       "  </thead>\n",
       "  <tbody>\n",
       "    <tr>\n",
       "      <th>0</th>\n",
       "      <td>홍</td>\n",
       "    </tr>\n",
       "    <tr>\n",
       "      <th>1</th>\n",
       "      <td>마</td>\n",
       "    </tr>\n",
       "    <tr>\n",
       "      <th>2</th>\n",
       "      <td>베</td>\n",
       "    </tr>\n",
       "  </tbody>\n",
       "</table>\n",
       "</div>"
      ],
      "text/plain": [
       "  이름\n",
       "0  홍\n",
       "1  마\n",
       "2  베"
      ]
     },
     "metadata": {},
     "output_type": "display_data"
    },
    {
     "name": "stdout",
     "output_type": "stream",
     "text": [
      "========================================\n"
     ]
    },
    {
     "data": {
      "text/html": [
       "<div>\n",
       "<style scoped>\n",
       "    .dataframe tbody tr th:only-of-type {\n",
       "        vertical-align: middle;\n",
       "    }\n",
       "\n",
       "    .dataframe tbody tr th {\n",
       "        vertical-align: top;\n",
       "    }\n",
       "\n",
       "    .dataframe thead th {\n",
       "        text-align: right;\n",
       "    }\n",
       "</style>\n",
       "<table border=\"1\" class=\"dataframe\">\n",
       "  <thead>\n",
       "    <tr style=\"text-align: right;\">\n",
       "      <th></th>\n",
       "      <th>번호</th>\n",
       "      <th>이름</th>\n",
       "    </tr>\n",
       "  </thead>\n",
       "  <tbody>\n",
       "    <tr>\n",
       "      <th>0</th>\n",
       "      <td>1</td>\n",
       "      <td>홍</td>\n",
       "    </tr>\n",
       "    <tr>\n",
       "      <th>1</th>\n",
       "      <td>5</td>\n",
       "      <td>마</td>\n",
       "    </tr>\n",
       "    <tr>\n",
       "      <th>2</th>\n",
       "      <td>9</td>\n",
       "      <td>베</td>\n",
       "    </tr>\n",
       "  </tbody>\n",
       "</table>\n",
       "</div>"
      ],
      "text/plain": [
       "   번호 이름\n",
       "0   1  홍\n",
       "1   5  마\n",
       "2   9  베"
      ]
     },
     "metadata": {},
     "output_type": "display_data"
    },
    {
     "data": {
      "text/html": [
       "<div>\n",
       "<style scoped>\n",
       "    .dataframe tbody tr th:only-of-type {\n",
       "        vertical-align: middle;\n",
       "    }\n",
       "\n",
       "    .dataframe tbody tr th {\n",
       "        vertical-align: top;\n",
       "    }\n",
       "\n",
       "    .dataframe thead th {\n",
       "        text-align: right;\n",
       "    }\n",
       "</style>\n",
       "<table border=\"1\" class=\"dataframe\">\n",
       "  <thead>\n",
       "    <tr style=\"text-align: right;\">\n",
       "      <th></th>\n",
       "      <th>이름</th>\n",
       "    </tr>\n",
       "  </thead>\n",
       "  <tbody>\n",
       "    <tr>\n",
       "      <th>0</th>\n",
       "      <td>홍</td>\n",
       "    </tr>\n",
       "    <tr>\n",
       "      <th>1</th>\n",
       "      <td>마</td>\n",
       "    </tr>\n",
       "    <tr>\n",
       "      <th>2</th>\n",
       "      <td>베</td>\n",
       "    </tr>\n",
       "  </tbody>\n",
       "</table>\n",
       "</div>"
      ],
      "text/plain": [
       "  이름\n",
       "0  홍\n",
       "1  마\n",
       "2  베"
      ]
     },
     "metadata": {},
     "output_type": "display_data"
    }
   ],
   "source": [
    "## ---------------------------------\n",
    "## 열 방향 데이터 삭제\n",
    "## ---------------------------------\n",
    "## => [ Labels, axis=1 매개변수 ] \n",
    "dataDF1 = dataDF.drop(['번호'], axis='columns')              ## 원본 유지\n",
    "display(dataDF, dataDF1)\n",
    "\n",
    "print('='*40)\n",
    "\n",
    "## => [ index 매개변수 ] \n",
    "dataDF1 = dataDF.drop(columns = ['번호'])                             ## 원본 유지\n",
    "display(dataDF, dataDF1)\n"
   ]
  }
 ],
 "metadata": {
  "kernelspec": {
   "display_name": "DATA_311",
   "language": "python",
   "name": "python3"
  },
  "language_info": {
   "codemirror_mode": {
    "name": "ipython",
    "version": 3
   },
   "file_extension": ".py",
   "mimetype": "text/x-python",
   "name": "python",
   "nbconvert_exporter": "python",
   "pygments_lexer": "ipython3",
   "version": "3.11.13"
  }
 },
 "nbformat": 4,
 "nbformat_minor": 5
}
