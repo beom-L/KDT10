{
 "cells": [
  {
   "cell_type": "markdown",
   "id": "bf536c4d",
   "metadata": {},
   "source": [
    "### [ 파이썬에서 변수와 참조 ]\n",
    "- 데이터 저장 문법 : 변수명 = 데이터\n",
    "- 데이터 저장 의미\n",
    "    * 힙메모리 영역에 저장된 데이터(객체)의 주소를 저장\n",
    "    * 스택메모리 영역에 변수명 존재함 => 참조형 변수(reference variable)"
   ]
  },
  {
   "cell_type": "code",
   "execution_count": null,
   "id": "8dfcc889",
   "metadata": {},
   "outputs": [],
   "source": [
    "a = 10   ## int형 인스턴스 10의 주소를 변수a에 저장\n",
    "b = 10   ## int형 인스턴스 10의 주소를 변수b에 저장\n",
    "c = a    ## int령 인스턴스 10의 주소를 변수c에 저장\n",
    "\n",
    "print('id(a)', id(a))\n",
    "print('id(b)', id(b))"
   ]
  },
  {
   "cell_type": "code",
   "execution_count": null,
   "id": "1dfb55a6",
   "metadata": {},
   "outputs": [],
   "source": [
    "a = 5\n",
    "b = a\n",
    "print('id(a)', id(a))\n",
    "print('id(b)', id(b))\n",
    "\n",
    "a += 5                  ## a = a + 5 => 5 + 5 = 10 : 10의 주소\n",
    "print('id(a)', id(a))  \n",
    "print('id(b)', id(b))  \n"
   ]
  },
  {
   "cell_type": "markdown",
   "id": "aacb291c",
   "metadata": {},
   "source": [
    "[ 컨테이너 데이터 ] <hr>"
   ]
  },
  {
   "cell_type": "code",
   "execution_count": null,
   "id": "12478df4",
   "metadata": {},
   "outputs": [
    {
     "name": "stdout",
     "output_type": "stream",
     "text": [
      "id(a) 2957991554432\n",
      "id(datas) 2957991554432\n"
     ]
    }
   ],
   "source": [
    "datas = [11,22,33]              ## 힙에 저장된 [11,22,33]의 주소를 저장\n",
    "\n",
    "a = datas                       ## datas변수가 가진 값 즉, [11,22,33]에 주소를 저장\n",
    "\n",
    "print('id(a)', id(a))  \n",
    "print('id(datas)', id(datas))  \n",
    "print('-------------------------')\n",
    "print('id(datas)', id(datas))  \n"
   ]
  },
  {
   "cell_type": "code",
   "execution_count": null,
   "id": "aa3d9064",
   "metadata": {},
   "outputs": [],
   "source": []
  }
 ],
 "metadata": {
  "kernelspec": {
   "display_name": "DATA_311",
   "language": "python",
   "name": "python3"
  },
  "language_info": {
   "codemirror_mode": {
    "name": "ipython",
    "version": 3
   },
   "file_extension": ".py",
   "mimetype": "text/x-python",
   "name": "python",
   "nbconvert_exporter": "python",
   "pygments_lexer": "ipython3",
   "version": "3.11.13"
  }
 },
 "nbformat": 4,
 "nbformat_minor": 5
}
