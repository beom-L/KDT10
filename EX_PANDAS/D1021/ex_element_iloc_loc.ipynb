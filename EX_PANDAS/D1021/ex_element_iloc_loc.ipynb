{
 "cells": [
  {
   "cell_type": "markdown",
   "id": "bf536c4d",
   "metadata": {},
   "source": [
    "### [ 속성 .iloc[] / .loc[] ]\n",
    "- .iloc[] : 위치기반 안댁수먼 사용 가능\n",
    "-  .loc[] : 라벨/네임 인덱스만 사용 가능\n"
   ]
  },
  {
   "cell_type": "markdown",
   "id": "2ca86440",
   "metadata": {},
   "source": [
    "[ 설정 인덱스가 숫자인 경우 ]\n",
    "<hr>"
   ]
  },
  {
   "cell_type": "code",
   "execution_count": 5,
   "id": "5876e6e7",
   "metadata": {},
   "outputs": [
    {
     "data": {
      "text/plain": [
       "1    99\n",
       "3    70\n",
       "dtype: int64"
      ]
     },
     "metadata": {},
     "output_type": "display_data"
    },
    {
     "name": "stdout",
     "output_type": "stream",
     "text": [
      "1번 원소 선택\n",
      "99 => 99 99 99\n",
      "70 => 70 70 70\n"
     ]
    }
   ],
   "source": [
    "import pandas as pd\n",
    "\n",
    "sr = pd.Series([99,70], index=[1,3])\n",
    "display(sr)\n",
    "\n",
    "print(\"1번 원소 선택\")\n",
    "print('99 =>',sr[1], sr.loc[1], sr.iloc[0])\n",
    "print('70 =>',sr[3], sr.loc[3], sr.iloc[1])"
   ]
  },
  {
   "cell_type": "markdown",
   "id": "a973da92",
   "metadata": {},
   "source": [
    "[설정인덱스가 글자인 경우] <hr>"
   ]
  },
  {
   "cell_type": "code",
   "execution_count": 6,
   "id": "1f4f05c9",
   "metadata": {},
   "outputs": [
    {
     "data": {
      "text/plain": [
       "a    99\n",
       "b    70\n",
       "dtype: int64"
      ]
     },
     "metadata": {},
     "output_type": "display_data"
    },
    {
     "name": "stdout",
     "output_type": "stream",
     "text": [
      "원소 선택\n",
      "99 => 99 99 99\n",
      "70 => 70 70 70\n"
     ]
    }
   ],
   "source": [
    "sr = pd.Series([99,70], index=['a','b'])\n",
    "display(sr)\n",
    "\n",
    "print(\"원소 선택\")\n",
    "print('99 =>',sr['a'], sr.loc['a'], sr.iloc[0])\n",
    "print('70 =>',sr['b'], sr.loc['b'], sr.iloc[1])"
   ]
  },
  {
   "cell_type": "code",
   "execution_count": null,
   "id": "80f70d8a",
   "metadata": {},
   "outputs": [],
   "source": []
  }
 ],
 "metadata": {
  "kernelspec": {
   "display_name": "DATA_311",
   "language": "python",
   "name": "python3"
  },
  "language_info": {
   "codemirror_mode": {
    "name": "ipython",
    "version": 3
   },
   "file_extension": ".py",
   "mimetype": "text/x-python",
   "name": "python",
   "nbconvert_exporter": "python",
   "pygments_lexer": "ipython3",
   "version": "3.11.13"
  }
 },
 "nbformat": 4,
 "nbformat_minor": 5
}
