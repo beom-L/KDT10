{
 "cells": [
  {
   "cell_type": "markdown",
   "id": "8b016d85",
   "metadata": {},
   "source": [
    "### [ 수업 복습 ] <hr>"
   ]
  },
  {
   "cell_type": "code",
   "execution_count": 25,
   "id": "e45573ef",
   "metadata": {},
   "outputs": [],
   "source": [
    "## 모듈 로딩\n",
    "import pandas as pd\n",
    "import numpy as np"
   ]
  },
  {
   "cell_type": "code",
   "execution_count": 48,
   "id": "7ea2cad3",
   "metadata": {},
   "outputs": [
    {
     "name": "stdout",
     "output_type": "stream",
     "text": [
      "    나이 성별   학교\n",
      "준서  15  남  덕영중\n",
      "예은  17  여  수리중\n",
      "     연령 남녀   소속\n",
      "학생1  15  남  덕영중\n",
      "학생2  17  여  수리중\n",
      "    남녀 연령   소속\n",
      "준서  15  남  덕영중\n",
      "예은  17  여  수리중\n"
     ]
    }
   ],
   "source": [
    "## 행/열 이름 설정 - 18p\n",
    "df = pd.DataFrame([[15,'남','덕영중'], [17,'여','수리중']],\n",
    "                    index=['준서','예은'],\n",
    "                    columns=['나이','성별','학교'])\n",
    "\n",
    "# 데이터프레임 출력하기\n",
    "print(df)\n",
    "df1 = df.copy()\n",
    "df2 = df.copy()\n",
    "\n",
    "# 행 인덱스, 열 이름 변경하기\n",
    "df.index = ['학생1','학생2']\n",
    "df.columns = ['연령','남녀', '소속']\n",
    "print(df)\n",
    "\n",
    "# rename -> 20p\n",
    "df1 = df1.rename(columns={'나이':'남녀', '성별':'연령', '학교':'소속'})\n",
    "print(df1)"
   ]
  },
  {
   "cell_type": "code",
   "execution_count": 49,
   "id": "ae5e6490",
   "metadata": {},
   "outputs": [
    {
     "name": "stdout",
     "output_type": "stream",
     "text": [
      "    남녀 연령   소속\n",
      "예은  17  여  수리중\n",
      "   성별   학교\n",
      "준서  남  덕영중\n",
      "예은  여  수리중\n"
     ]
    }
   ],
   "source": [
    "## 행/열 삭제하기 -> 22p\n",
    "# 행 삭제하기\n",
    "df1 = df1.drop(['준서'])\n",
    "print(df1)\n",
    "\n",
    "# 열 삭제하기\n",
    "df2 = df2.drop(['나이'], axis=1)\n",
    "print(df2)"
   ]
  },
  {
   "cell_type": "code",
   "execution_count": 53,
   "id": "778d830e",
   "metadata": {},
   "outputs": [
    {
     "name": "stdout",
     "output_type": "stream",
     "text": [
      "    나이 성별   학교\n",
      "준서  15  남  덕영중\n",
      "예은  17  여  수리중\n",
      "중기  25  남  이이중\n",
      "    나이 성별   학교\n",
      "예은  17  여  수리중\n"
     ]
    }
   ],
   "source": [
    "## 행 선택 -> loc / iloc\n",
    "df = pd.DataFrame([[15,'남','덕영중'], [17,'여','수리중'], [25, '남', '이이중']],\n",
    "                    index=['준서','예은', '중기'],\n",
    "                    columns=['나이','성별','학교'])\n",
    "print(df)\n",
    "\n",
    "# 인덱스로 행 선택\n",
    "df = df.iloc[1:2]\n",
    "print(df)"
   ]
  },
  {
   "cell_type": "code",
   "execution_count": null,
   "id": "74aa1f0f",
   "metadata": {},
   "outputs": [],
   "source": []
  }
 ],
 "metadata": {
  "kernelspec": {
   "display_name": "DATA_311",
   "language": "python",
   "name": "python3"
  },
  "language_info": {
   "codemirror_mode": {
    "name": "ipython",
    "version": 3
   },
   "file_extension": ".py",
   "mimetype": "text/x-python",
   "name": "python",
   "nbconvert_exporter": "python",
   "pygments_lexer": "ipython3",
   "version": "3.11.13"
  }
 },
 "nbformat": 4,
 "nbformat_minor": 5
}
