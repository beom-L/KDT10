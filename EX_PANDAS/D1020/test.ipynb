{
 "cells": [
  {
   "cell_type": "markdown",
   "id": "fc3e6448",
   "metadata": {},
   "source": [
    "# 제목 #1\n",
    "## 제목 #2\n",
    "### 제목 #3\n",
    "#### 제목 #4\n",
    "##### 제목 #5\n",
    "- ESC -> M -> Markdowm 전환\n",
    "- ESC -> Y -> Code 모드 전환\n",
    "- 현재 셀 실행만 진행 => ctrl + Enter\n",
    "- 현재 셀 실행 후 아래 셀 없으면 셀 추가 후 이동 => shift + Enter\n",
    "- 패키지 설치\n",
    "    * !pip install 패키지명 / %pip install 패키지명\n",
    "    * conda 설치 명령어 미지원 ==> Terminal 실행 후 본인 가상환경에서 설치\n",
    "    * pip 설치만 지원하는 패키지는 pip로 설치\n",
    "    * 그 외에는 conda로 설치하는 것이 패키지 충돌을 예방할 수 있음"
   ]
  },
  {
   "cell_type": "code",
   "execution_count": 5,
   "id": "39205f1d",
   "metadata": {},
   "outputs": [],
   "source": [
    "import pandas as pd"
   ]
  }
 ],
 "metadata": {
  "kernelspec": {
   "display_name": "DATA_311",
   "language": "python",
   "name": "python3"
  },
  "language_info": {
   "codemirror_mode": {
    "name": "ipython",
    "version": 3
   },
   "file_extension": ".py",
   "mimetype": "text/x-python",
   "name": "python",
   "nbconvert_exporter": "python",
   "pygments_lexer": "ipython3",
   "version": "3.11.13"
  }
 },
 "nbformat": 4,
 "nbformat_minor": 5
}
