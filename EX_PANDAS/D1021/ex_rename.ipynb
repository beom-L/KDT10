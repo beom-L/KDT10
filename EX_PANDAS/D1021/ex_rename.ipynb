{
 "cells": [
  {
   "cell_type": "markdown",
   "id": "7951eef7",
   "metadata": {},
   "source": [
    "### [ 행인덱스/열이름 부분 변경 ]\n",
    "- Series/DataFrame에서 행 인덱스, 열이름 부분 변경 지원\n",
    "- 속성명 변경 => 전체 변경. 일부 변경 X\n",
    "- 메서드 : rename(index, columns, ..., inplace=False)\n",
    "    * 행 인덱스 변경 시 => index 매개변수 사용\n",
    "    * 열 이름 변경 시 => columns 매개변수 사용\n",
    "    * 원본 변경 여부 => inplace 매개변수"
   ]
  },
  {
   "cell_type": "markdown",
   "id": "8fbad374",
   "metadata": {},
   "source": [
    "[ Series의 행인덱스 부분 변경 ] <hr>"
   ]
  },
  {
   "cell_type": "code",
   "execution_count": 1,
   "id": "e3107bd1",
   "metadata": {},
   "outputs": [],
   "source": [
    "## 모듈 설정\n",
    "import pandas as pd"
   ]
  },
  {
   "cell_type": "code",
   "execution_count": 2,
   "id": "d6d00ecd",
   "metadata": {},
   "outputs": [
    {
     "name": "stdout",
     "output_type": "stream",
     "text": [
      "a    10\n",
      "b     9\n",
      "c    22\n",
      "dtype: int64\n",
      "Index(['a', 'b', 'c'], dtype='object')\n"
     ]
    }
   ],
   "source": [
    "## 임의의 데이터\n",
    "data_dict = {'a':10, 'b':9, 'c':22}\n",
    "\n",
    "## 시리즈 인스턴스 생성\n",
    "dataSR = pd.Series(data_dict)\n",
    "\n",
    "## 출력\n",
    "print(dataSR)\n",
    "print(dataSR.index)"
   ]
  },
  {
   "cell_type": "code",
   "execution_count": 3,
   "id": "3f5972a8",
   "metadata": {},
   "outputs": [
    {
     "name": "stdout",
     "output_type": "stream",
     "text": [
      "하나    10\n",
      "둘      9\n",
      "셋     22\n",
      "dtype: int64\n",
      "Index(['하나', '둘', '셋'], dtype='object')\n"
     ]
    }
   ],
   "source": [
    "## index 속성 변셩\n",
    "## Index(['a','b','c']), dtype='object') 객체\n",
    "## => 변경 '하나', '둘', '셋'\n",
    "dataSR.index = ['하나', '둘', '셋']\n",
    "\n",
    "## => 확인\n",
    "# dataSR    ## 하나만 확인할 때는 이렇게 해도됨. 근데 여러개 출력할거면 print 필요\n",
    "print(dataSR)\n",
    "print(dataSR.index)"
   ]
  },
  {
   "cell_type": "code",
   "execution_count": 7,
   "id": "b3ed34d9",
   "metadata": {},
   "outputs": [
    {
     "data": {
      "text/plain": [
       "하나    10\n",
       "둘      9\n",
       "셋     22\n",
       "dtype: int64"
      ]
     },
     "metadata": {},
     "output_type": "display_data"
    },
    {
     "data": {
      "text/plain": [
       "One      10\n",
       "둘         9\n",
       "Three    22\n",
       "dtype: int64"
      ]
     },
     "metadata": {},
     "output_type": "display_data"
    },
    {
     "data": {
      "text/plain": [
       "One      10\n",
       "222       9\n",
       "Three    22\n",
       "dtype: int64"
      ]
     },
     "metadata": {},
     "output_type": "display_data"
    },
    {
     "data": {
      "text/plain": [
       "None"
      ]
     },
     "metadata": {},
     "output_type": "display_data"
    }
   ],
   "source": [
    "## ----------------------------------\n",
    "## index 속성 변경 : 일부/부분 변경\n",
    "## ----------------------------------\n",
    "## ['하나', '둘', '셋'] => 변경 ['One', '둘', 'Three']\n",
    "# dataSR.index = ['One', 'Three']  ## 개수 불일치 X ERROR\n",
    "\n",
    "## => rename(index, inplace=False) 메서드\n",
    "dataSR1 = dataSR.rename(index={'하나':'One', '셋':'Three'})  ## inplace가 default로 False라서 원본은 바뀌지 않음\n",
    "display(dataSR, dataSR1)\n",
    "\n",
    "\n",
    "## => rename(index, inplace=True) 메서드\n",
    "dataSR11 = dataSR1.rename(index={'둘':'222'}, inplace=True)  \n",
    "display(dataSR1, dataSR11)\n",
    "\n"
   ]
  },
  {
   "cell_type": "code",
   "execution_count": 5,
   "id": "85088841",
   "metadata": {},
   "outputs": [],
   "source": [
    "# ## --------------------------------------------------\n",
    "# ## dtype 속성 변경\n",
    "# ## --------------------------------------------------\n",
    "# ## 현재 dtype 속성 확인     => 비공개 속성에서 getter 메서드 존재\n",
    "# print(\"현재\", dataSR.dtype)\n",
    "\n",
    "# ## dtype 속성 설정 및 확인   => 비공개 속성에서 setter 메서드 존재\n",
    "# dataSR.dtype = 'int16'      ## Series의 dtype은 setter를 가지고 있지 않음. 그래서 변경하면 에러가 발생함\n",
    "\n",
    "# print(\"변경\", dataSR.dtype)\n",
    "# display(dataSR, 't:ttt')   ## 보기좋게 나눠줌 -> \\n을 알아서 해주는 느낌"
   ]
  },
  {
   "cell_type": "markdown",
   "id": "5ce5d905",
   "metadata": {},
   "source": [
    "[ 읽기만 가능 / 변경 불가한 속성들 ] <hr>"
   ]
  },
  {
   "cell_type": "code",
   "execution_count": 12,
   "id": "17d19e4e",
   "metadata": {},
   "outputs": [
    {
     "name": "stdout",
     "output_type": "stream",
     "text": [
      "현재 int64\n",
      "변경 int64\n"
     ]
    },
    {
     "data": {
      "text/plain": [
       "하나    10\n",
       "둘      9\n",
       "셋     22\n",
       "Name: 점수, dtype: int64"
      ]
     },
     "metadata": {},
     "output_type": "display_data"
    }
   ],
   "source": [
    "## --------------------------------------------------\n",
    "## dtype 속성 변경 X\n",
    "## --------------------------------------------------\n",
    "## 현재 dtype 속성 확인     => 비공개 속성에서 getter 메서드 존재\n",
    "print(\"현재\", dataSR.dtype)\n",
    "\n",
    "## dtype 속성 설정 및 확인   => 비공개 속성에서 setter 메서드 존재\n",
    "# dataSR.dtype = 'int16'      ## Series의 dtype은 setter를 가지고 있지 않음. 그래서 변경하면 에러가 발생함\n",
    "\n",
    "print(\"변경\", dataSR.dtype)\n",
    "display(dataSR)   ## 보기좋게 나눠줌 -> \\n을 알아서 해주는 느낌\n"
   ]
  },
  {
   "cell_type": "code",
   "execution_count": 14,
   "id": "d4b9ba05",
   "metadata": {},
   "outputs": [
    {
     "name": "stdout",
     "output_type": "stream",
     "text": [
      "현재 [10  9 22]\n"
     ]
    },
    {
     "data": {
      "text/plain": [
       "하나    10\n",
       "둘      9\n",
       "셋     22\n",
       "Name: 점수, dtype: int64"
      ]
     },
     "metadata": {},
     "output_type": "display_data"
    }
   ],
   "source": [
    "## --------------------------------------------------\n",
    "## values 속성 변경 X\n",
    "## --------------------------------------------------\n",
    "## 현재 values 속성 확인     => 비공개 속성에서 getter 메서드 존재\n",
    "print(\"현재\", dataSR.values)\n",
    "\n",
    "## values 속성 설정 및 확인   => 비공개 속성에서 setter 메서드 미존재\n",
    "# dataSR.values = [0 ,9 ,11]  ## 불가임\n",
    "display(dataSR) "
   ]
  },
  {
   "cell_type": "markdown",
   "id": "733957b4",
   "metadata": {},
   "source": [
    "[ DataFrame의 속성 읽기/변경 ] <hr>"
   ]
  },
  {
   "cell_type": "code",
   "execution_count": 16,
   "id": "094d90a8",
   "metadata": {},
   "outputs": [
    {
     "data": {
      "text/html": [
       "<div>\n",
       "<style scoped>\n",
       "    .dataframe tbody tr th:only-of-type {\n",
       "        vertical-align: middle;\n",
       "    }\n",
       "\n",
       "    .dataframe tbody tr th {\n",
       "        vertical-align: top;\n",
       "    }\n",
       "\n",
       "    .dataframe thead th {\n",
       "        text-align: right;\n",
       "    }\n",
       "</style>\n",
       "<table border=\"1\" class=\"dataframe\">\n",
       "  <thead>\n",
       "    <tr style=\"text-align: right;\">\n",
       "      <th></th>\n",
       "      <th>번호</th>\n",
       "      <th>이름</th>\n",
       "    </tr>\n",
       "  </thead>\n",
       "  <tbody>\n",
       "    <tr>\n",
       "      <th>0</th>\n",
       "      <td>1</td>\n",
       "      <td>홍</td>\n",
       "    </tr>\n",
       "    <tr>\n",
       "      <th>1</th>\n",
       "      <td>5</td>\n",
       "      <td>마</td>\n",
       "    </tr>\n",
       "    <tr>\n",
       "      <th>2</th>\n",
       "      <td>9</td>\n",
       "      <td>베</td>\n",
       "    </tr>\n",
       "  </tbody>\n",
       "</table>\n",
       "</div>"
      ],
      "text/plain": [
       "   번호 이름\n",
       "0   1  홍\n",
       "1   5  마\n",
       "2   9  베"
      ]
     },
     "metadata": {},
     "output_type": "display_data"
    },
    {
     "data": {
      "text/plain": [
       "Index(['번호', '이름'], dtype='object')"
      ]
     },
     "metadata": {},
     "output_type": "display_data"
    },
    {
     "data": {
      "text/plain": [
       "RangeIndex(start=0, stop=3, step=1)"
      ]
     },
     "metadata": {},
     "output_type": "display_data"
    }
   ],
   "source": [
    "## 데이터\n",
    "data_dict = {'번호':[1,5,9],\n",
    "             '이름':['홍','마','베']}\n",
    "\n",
    "## 데이터프레임 생성 : key => 컬럼명, Value => 세로 즉, 컬럼 데이터\n",
    "dataDF = pd.DataFrame(data_dict)\n",
    "\n",
    "## 출력\n",
    "display(dataDF, dataDF.columns, dataDF.index)"
   ]
  },
  {
   "cell_type": "code",
   "execution_count": 17,
   "id": "91892452",
   "metadata": {},
   "outputs": [
    {
     "name": "stdout",
     "output_type": "stream",
     "text": [
      "현재 RangeIndex(start=0, stop=3, step=1)\n",
      "     번호 이름\n",
      "사람1   1  홍\n",
      "사람2   5  마\n",
      "사람3   9  베\n"
     ]
    }
   ],
   "source": [
    "## --------------------------------------------------\n",
    "## - index 변경\n",
    "## --------------------------------------------------\n",
    "print('현재', dataDF.index)\n",
    "\n",
    "## 변경 [0, 1, 2] ==> ['사람1', '사람2', '사람3']\n",
    "dataDF.index = ['사람1', '사람2', '사람3']\n",
    "\n",
    "## 확인\n",
    "print(dataDF)"
   ]
  },
  {
   "cell_type": "code",
   "execution_count": null,
   "id": "03469ef6",
   "metadata": {},
   "outputs": [],
   "source": [
    "## --------------------------------------------------\n",
    "## - columns 변경\n",
    "## --------------------------------------------------\n",
    "print('현재', dataDF.index)\n",
    "\n",
    "## 변경 ['번호', '이름'] ==> ['ID', 'NAME']\n",
    "dataDF.columns = ['ID', 'NAME']\n",
    "\n",
    "## 확인\n",
    "print(dataDF)"
   ]
  }
 ],
 "metadata": {
  "kernelspec": {
   "display_name": "DATA_311",
   "language": "python",
   "name": "python3"
  },
  "language_info": {
   "codemirror_mode": {
    "name": "ipython",
    "version": 3
   },
   "file_extension": ".py",
   "mimetype": "text/x-python",
   "name": "python",
   "nbconvert_exporter": "python",
   "pygments_lexer": "ipython3",
   "version": "3.11.13"
  }
 },
 "nbformat": 4,
 "nbformat_minor": 5
}
