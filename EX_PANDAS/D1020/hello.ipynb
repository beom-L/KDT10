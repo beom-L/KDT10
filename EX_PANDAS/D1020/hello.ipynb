{
 "cells": [
  {
   "cell_type": "markdown",
   "metadata": {},
   "source": [
    "# 제목 #1  \n",
    "## 제목 ##2  \n",
    "### 제목 ###3  \n",
    "#### 제목 ####4  \n",
    "##### 제목 #####5  \n",
    "- ESC + M => Markdown 모드 전환\n",
    "- ESC + Y => Code 모드 전환 \n",
    "- 현재 셀 실행만 진행 => ctrl + Enter\n",
    "- 현재 셀 실행 후 아래 셀 없으면 셀 추가 후 이동 => shift + Enter\n",
    "- 패키지설치\n",
    "    * !pip install 패키지명 / %pip install 패키지명\n",
    "    * conda 설치 명령어 미지원 ==> Terminal 실행 후 본인 가상환경에서 설치 \n",
    "    * pip 설치만 지원하는 패키지는 pip로 설치 \n",
    "    * 그 외는 conda로 설치하는 것이 패키지 충돌을 예방할 수 있음!!\n",
    "\n"
   ]
  },
  {
   "cell_type": "code",
   "execution_count": 1,
   "metadata": {},
   "outputs": [],
   "source": [
    "##-> 모듈 로딩\n",
    "import pandas as pd \n"
   ]
  },
  {
   "cell_type": "code",
   "execution_count": 2,
   "metadata": {},
   "outputs": [],
   "source": [
    "## -------------------------------------------------\n",
    "##-> 데이터 준비\n",
    "## -------------------------------------------------\n",
    "jumsu=[[99, 77, 55], \n",
    "       [77, 88, 66]]\n",
    "\n",
    "##-> 행인덱스\n",
    "idx = ['0번','1번']\n",
    "\n",
    "##-> 열인덱스 \n",
    "cols = ['국어','체육','과학']"
   ]
  },
  {
   "cell_type": "code",
   "execution_count": 3,
   "metadata": {},
   "outputs": [],
   "source": [
    "## -------------------------------------------------\n",
    "## 함수기능 : DataFrame 객체의 속성 출력 기능\n",
    "## 함수이름 : print_attr\n",
    "## 매개변수 : df       - 데이터프레임 인스턴스/객체\n",
    "##           df_name  - 데이터프레임 인스턴스/객체 이름\n",
    "## 반환결과 : 없음\n",
    "## -------------------------------------------------\n",
    "def print_attr(df, df_name):\n",
    "    print(f'\\n---[{df_name} 속성 읽기]---')\n",
    "    print(f'인덱스 : {df.index}')\n",
    "    print(f'컬럼즈 : {df.columns}')\n",
    "    print(f'데이터 :\\n{df.values}, {type(df.values)}')\n",
    "    print(f'형  태 : {df.shape}')      ## 2차원으로 원소 수 반환\n",
    "    print(f'차  원 : {df.ndim}차원')    ## 2차원\n",
    "    print(f'타  입 :\\n{df.dtypes}')    ## 컬럼별 타입\n",
    "    print(f'데이터프레임 :\\n{df}')"
   ]
  },
  {
   "cell_type": "code",
   "execution_count": 4,
   "metadata": {},
   "outputs": [
    {
     "name": "stdout",
     "output_type": "stream",
     "text": [
      "\n",
      "---[dataDF1 속성 읽기]---\n",
      "인덱스 : Index(['0번', '1번'], dtype='object')\n",
      "컬럼즈 : RangeIndex(start=0, stop=3, step=1)\n",
      "데이터 :\n",
      "[[99 77 55]\n",
      " [77 88 66]], <class 'numpy.ndarray'>\n",
      "형  태 : (2, 3)\n",
      "차  원 : 2차원\n",
      "타  입 :\n",
      "0    int64\n",
      "1    int64\n",
      "2    int64\n",
      "dtype: object\n",
      "데이터프레임 :\n",
      "     0   1   2\n",
      "0번  99  77  55\n",
      "1번  77  88  66\n"
     ]
    }
   ],
   "source": [
    "##-> 데이터, 행인덱스\n",
    "dataDF1 = pd.DataFrame(jumsu, idx)\n",
    "##-> Data, index\n",
    "print_attr(dataDF1, 'dataDF1')"
   ]
  }
 ],
 "metadata": {
  "kernelspec": {
   "display_name": "DATA_311",
   "language": "python",
   "name": "python3"
  },
  "language_info": {
   "codemirror_mode": {
    "name": "ipython",
    "version": 3
   },
   "file_extension": ".py",
   "mimetype": "text/x-python",
   "name": "python",
   "nbconvert_exporter": "python",
   "pygments_lexer": "ipython3",
   "version": "3.11.13"
  }
 },
 "nbformat": 4,
 "nbformat_minor": 2
}
