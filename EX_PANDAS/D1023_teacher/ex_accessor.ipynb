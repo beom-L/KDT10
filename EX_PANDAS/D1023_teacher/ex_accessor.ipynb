{
 "cells": [
  {
   "cell_type": "markdown",
   "metadata": {},
   "source": [
    "### 【 ACCESSOR 접근자 】\n",
    "- pandas에서 str 데이터, datetime 데이터에 간편한 처리 위해 제공\n",
    "- Series에 제공되는 기능\n",
    "- 종류\n",
    "    * str 데이터 : Series.str 접근자 \n",
    "    * datetime 데이터 : Series.dt 접근자 "
   ]
  },
  {
   "cell_type": "code",
   "execution_count": 37,
   "metadata": {},
   "outputs": [],
   "source": [
    "## 모듈 로딩\n",
    "import pandas as pd\n"
   ]
  },
  {
   "cell_type": "code",
   "execution_count": 38,
   "metadata": {},
   "outputs": [
    {
     "data": {
      "text/html": [
       "<div>\n",
       "<style scoped>\n",
       "    .dataframe tbody tr th:only-of-type {\n",
       "        vertical-align: middle;\n",
       "    }\n",
       "\n",
       "    .dataframe tbody tr th {\n",
       "        vertical-align: top;\n",
       "    }\n",
       "\n",
       "    .dataframe thead th {\n",
       "        text-align: right;\n",
       "    }\n",
       "</style>\n",
       "<table border=\"1\" class=\"dataframe\">\n",
       "  <thead>\n",
       "    <tr style=\"text-align: right;\">\n",
       "      <th></th>\n",
       "      <th>이름</th>\n",
       "      <th>댓글</th>\n",
       "    </tr>\n",
       "  </thead>\n",
       "  <tbody>\n",
       "    <tr>\n",
       "      <th>0</th>\n",
       "      <td>홍 길동</td>\n",
       "      <td>Good Luck</td>\n",
       "    </tr>\n",
       "    <tr>\n",
       "      <th>1</th>\n",
       "      <td>마 징가</td>\n",
       "      <td>Happy New Year</td>\n",
       "    </tr>\n",
       "    <tr>\n",
       "      <th>2</th>\n",
       "      <td>베 트맨</td>\n",
       "      <td>good day</td>\n",
       "    </tr>\n",
       "  </tbody>\n",
       "</table>\n",
       "</div>"
      ],
      "text/plain": [
       "     이름              댓글\n",
       "0  홍 길동       Good Luck\n",
       "1  마 징가  Happy New Year\n",
       "2  베 트맨        good day"
      ]
     },
     "execution_count": 38,
     "metadata": {},
     "output_type": "execute_result"
    }
   ],
   "source": [
    "## DF 인스턴스 생성 \n",
    "dataDF = pd.DataFrame({ '이름' :['홍 길동', '마 징가', '베 트맨'],\n",
    "                        '댓글' :[' Good Luck', 'Happy New Year', 'good day']})\n",
    "\n",
    "dataDF"
   ]
  },
  {
   "cell_type": "code",
   "execution_count": 39,
   "metadata": {},
   "outputs": [
    {
     "name": "stderr",
     "output_type": "stream",
     "text": [
      "C:\\Users\\Public\\Documents\\ESTsoft\\CreatorTemp\\ipykernel_14876\\2030757828.py:6: FutureWarning: ChainedAssignmentError: behaviour will change in pandas 3.0!\n",
      "You are setting values through chained assignment. Currently this works in certain cases, but when using Copy-on-Write (which will become the default behaviour in pandas 3.0) this will never work to update the original DataFrame or Series, because the intermediate object on which we are setting values will behave as a copy.\n",
      "A typical example is when you are setting values in a column of a DataFrame, like:\n",
      "\n",
      "df[\"col\"][row_indexer] = value\n",
      "\n",
      "Use `df.loc[row_indexer, \"col\"] = values` instead, to perform the assignment in a single step and ensure this keeps updating the original `df`.\n",
      "\n",
      "See the caveats in the documentation: https://pandas.pydata.org/pandas-docs/stable/user_guide/indexing.html#returning-a-view-versus-a-copy\n",
      "\n",
      "  dataDF['댓글'][idx] = dataDF['댓글'][idx].lower()\n"
     ]
    },
    {
     "data": {
      "text/html": [
       "<div>\n",
       "<style scoped>\n",
       "    .dataframe tbody tr th:only-of-type {\n",
       "        vertical-align: middle;\n",
       "    }\n",
       "\n",
       "    .dataframe tbody tr th {\n",
       "        vertical-align: top;\n",
       "    }\n",
       "\n",
       "    .dataframe thead th {\n",
       "        text-align: right;\n",
       "    }\n",
       "</style>\n",
       "<table border=\"1\" class=\"dataframe\">\n",
       "  <thead>\n",
       "    <tr style=\"text-align: right;\">\n",
       "      <th></th>\n",
       "      <th>이름</th>\n",
       "      <th>댓글</th>\n",
       "    </tr>\n",
       "  </thead>\n",
       "  <tbody>\n",
       "    <tr>\n",
       "      <th>0</th>\n",
       "      <td>홍 길동</td>\n",
       "      <td>good luck</td>\n",
       "    </tr>\n",
       "    <tr>\n",
       "      <th>1</th>\n",
       "      <td>마 징가</td>\n",
       "      <td>happy new year</td>\n",
       "    </tr>\n",
       "    <tr>\n",
       "      <th>2</th>\n",
       "      <td>베 트맨</td>\n",
       "      <td>good day</td>\n",
       "    </tr>\n",
       "  </tbody>\n",
       "</table>\n",
       "</div>"
      ],
      "text/plain": [
       "     이름              댓글\n",
       "0  홍 길동       good luck\n",
       "1  마 징가  happy new year\n",
       "2  베 트맨        good day"
      ]
     },
     "metadata": {},
     "output_type": "display_data"
    },
    {
     "name": "stderr",
     "output_type": "stream",
     "text": [
      "C:\\Users\\Public\\Documents\\ESTsoft\\CreatorTemp\\ipykernel_14876\\2030757828.py:12: FutureWarning: ChainedAssignmentError: behaviour will change in pandas 3.0!\n",
      "You are setting values through chained assignment. Currently this works in certain cases, but when using Copy-on-Write (which will become the default behaviour in pandas 3.0) this will never work to update the original DataFrame or Series, because the intermediate object on which we are setting values will behave as a copy.\n",
      "A typical example is when you are setting values in a column of a DataFrame, like:\n",
      "\n",
      "df[\"col\"][row_indexer] = value\n",
      "\n",
      "Use `df.loc[row_indexer, \"col\"] = values` instead, to perform the assignment in a single step and ensure this keeps updating the original `df`.\n",
      "\n",
      "See the caveats in the documentation: https://pandas.pydata.org/pandas-docs/stable/user_guide/indexing.html#returning-a-view-versus-a-copy\n",
      "\n",
      "  dataDF['댓글'][idx] = dataDF['댓글'][idx].upper()\n"
     ]
    },
    {
     "data": {
      "text/html": [
       "<div>\n",
       "<style scoped>\n",
       "    .dataframe tbody tr th:only-of-type {\n",
       "        vertical-align: middle;\n",
       "    }\n",
       "\n",
       "    .dataframe tbody tr th {\n",
       "        vertical-align: top;\n",
       "    }\n",
       "\n",
       "    .dataframe thead th {\n",
       "        text-align: right;\n",
       "    }\n",
       "</style>\n",
       "<table border=\"1\" class=\"dataframe\">\n",
       "  <thead>\n",
       "    <tr style=\"text-align: right;\">\n",
       "      <th></th>\n",
       "      <th>이름</th>\n",
       "      <th>댓글</th>\n",
       "    </tr>\n",
       "  </thead>\n",
       "  <tbody>\n",
       "    <tr>\n",
       "      <th>0</th>\n",
       "      <td>홍 길동</td>\n",
       "      <td>GOOD LUCK</td>\n",
       "    </tr>\n",
       "    <tr>\n",
       "      <th>1</th>\n",
       "      <td>마 징가</td>\n",
       "      <td>HAPPY NEW YEAR</td>\n",
       "    </tr>\n",
       "    <tr>\n",
       "      <th>2</th>\n",
       "      <td>베 트맨</td>\n",
       "      <td>GOOD DAY</td>\n",
       "    </tr>\n",
       "  </tbody>\n",
       "</table>\n",
       "</div>"
      ],
      "text/plain": [
       "     이름              댓글\n",
       "0  홍 길동       GOOD LUCK\n",
       "1  마 징가  HAPPY NEW YEAR\n",
       "2  베 트맨        GOOD DAY"
      ]
     },
     "metadata": {},
     "output_type": "display_data"
    }
   ],
   "source": [
    "## 댓글 컬럼의 내용을 모두 소문자로 변환\n",
    "##dataDF['댓글'].lower()   <= Series에 문자열 관련 메서드 X\n",
    "##dataDF['댓글'][0].lower()  <= 원소 1개 선택 시 문자열. 문자열 관련 메서드 사용 O\n",
    "\n",
    "for idx in range( dataDF['댓글'].shape[0] ):\n",
    "    dataDF['댓글'][idx] = dataDF['댓글'][idx].lower()\n",
    "\n",
    "display(dataDF)\n",
    "\n",
    "\n",
    "for idx in dataDF.index:\n",
    "    dataDF['댓글'][idx] = dataDF['댓글'][idx].upper()\n",
    "\n",
    "display(dataDF)"
   ]
  },
  {
   "cell_type": "markdown",
   "metadata": {},
   "source": [
    "[1] Series.str 접근자 : 문자열 관련 메서드들 제공<hr>"
   ]
  },
  {
   "cell_type": "code",
   "execution_count": 40,
   "metadata": {},
   "outputs": [
    {
     "data": {
      "text/plain": [
       "0              Hello, World!  \n",
       "1                Pandas_is_FUN\n",
       "2    email: user01@example.com\n",
       "3                         None\n",
       "dtype: object"
      ]
     },
     "metadata": {},
     "output_type": "display_data"
    },
    {
     "data": {
      "text/plain": [
       "RangeIndex(start=0, stop=4, step=1)"
      ]
     },
     "metadata": {},
     "output_type": "display_data"
    }
   ],
   "source": [
    "## Series 인스턴스 생성\n",
    "dataSR = pd.Series( [ \"  Hello, World!  \",\n",
    "                      \"Pandas_is_FUN\",\n",
    "                      \"email: user01@example.com\",\n",
    "                      None\n",
    "])\n",
    "\n",
    "## 확인\n",
    "display(dataSR, dataSR.index)"
   ]
  },
  {
   "cell_type": "code",
   "execution_count": 41,
   "metadata": {},
   "outputs": [
    {
     "name": "stdout",
     "output_type": "stream",
     "text": [
      "0                Hello, World!\n",
      "1                Pandas_is_FUN\n",
      "2    email: user01@example.com\n",
      "3                         None\n",
      "dtype: object\n",
      "0                hello, world!\n",
      "1                pandas_is_fun\n",
      "2    email: user01@example.com\n",
      "3                         None\n",
      "dtype: object\n"
     ]
    }
   ],
   "source": [
    "## 1) 공백 제거 & 소문자화\n",
    "## strip() : 좌우 공백 제거\n",
    "print( dataSR.str.strip() )\n",
    "\n",
    "## strip() 공백 제거 결과 + lower() 소문자 변환\n",
    "print(dataSR.str.strip().str.lower())"
   ]
  },
  {
   "cell_type": "code",
   "execution_count": null,
   "metadata": {},
   "outputs": [
    {
     "name": "stdout",
     "output_type": "stream",
     "text": [
      "0     True\n",
      "1    False\n",
      "2    False\n",
      "3    False\n",
      "dtype: bool\n",
      "0    -1.0\n",
      "1    10.0\n",
      "2    -1.0\n",
      "3     NaN\n",
      "dtype: float64\n"
     ]
    }
   ],
   "source": [
    "## 2) 포함 여부(불리언) / 위치 찾기\n",
    "# 0              Hello, World!         <= world\n",
    "# 1                Pandas_is_FUN\n",
    "# 2    email: user01@example.com\n",
    "# 3                         None       <= python언어에서 None : 없다는 의미\n",
    "# dtype: object\n",
    "\n",
    "## contains() : 문자열안에 해당 문자열 존재 여부 \n",
    "##              case 매개변수 : 대소문자 일치여부 \n",
    "##              na   매개변수 : 결측치에 대한 처리 설정\n",
    "print(dataSR.str.contains(\"world\", case=False, na=False))  # [True/False]\n",
    "\n",
    "## find() : 문자열안에서 제일 먼저 발견되는 인덱스 반환  \n",
    "print(dataSR.str.find(\"FUN\"))                              # 없으면 -1, NaN 처리\n"
   ]
  },
  {
   "cell_type": "code",
   "execution_count": null,
   "metadata": {},
   "outputs": [
    {
     "name": "stdout",
     "output_type": "stream",
     "text": [
      "0      Hel\n",
      "1    Panda\n",
      "2    email\n",
      "3     None\n",
      "dtype: object\n",
      "0    17.0\n",
      "1    13.0\n",
      "2    25.0\n",
      "3     NaN\n",
      "dtype: float64\n"
     ]
    }
   ],
   "source": [
    "## 3) 부분 문자열 추출(슬라이스) / 길이\n",
    "print(dataSR.str.slice(0, 5))   # 앞 5글자\n",
    "\n",
    "print(dataSR.str.len())         # 글자 수(한글도 문자 1개로 셈)"
   ]
  },
  {
   "cell_type": "code",
   "execution_count": 45,
   "metadata": {},
   "outputs": [
    {
     "name": "stdout",
     "output_type": "stream",
     "text": [
      "0            [  Hello, World!  ]\n",
      "1              [Pandas, is, FUN]\n",
      "2    [email: user01@example.com]\n",
      "3                           None\n",
      "dtype: object\n",
      "<class 'list'>\n",
      "                           0     1     2\n",
      "0            Hello, World!    None  None\n",
      "1                     Pandas    is   FUN\n",
      "2  email: user01@example.com  None  None\n",
      "3                       None  None  None\n",
      "<class 'pandas.core.frame.DataFrame'>\n"
     ]
    }
   ],
   "source": [
    "## 4) 구분자 분리 및 확장\n",
    "## 구분자 분리 → List 담아서 반환 : Series => Series\n",
    "print(dataSR.str.split(\"_\"))  \n",
    "\n",
    "ret = dataSR.str.split(\"_\")\n",
    "print( type(ret[0]) )\n",
    "\n",
    "\n",
    "## 구분자 분리 → 여러 열로 확장 : Series => DataFrame\n",
    "print(dataSR.str.split(\"_\", expand=True))  \n",
    "\n",
    "ret = dataSR.str.split(\"_\", expand=True)\n",
    "print( type(ret) )\n"
   ]
  },
  {
   "cell_type": "code",
   "execution_count": null,
   "metadata": {},
   "outputs": [],
   "source": [
    "# 5) 정규식으로 추출/치환\n",
    "print(dataSR.str.extract(r\"email:\\s*([A-Za-z0-9._%+-]+@[A-Za-z0-9.-]+\\.[A-Za-z]{2,})\"))\n",
    "print(dataSR.str.replace(r\"\\s+\", \" \", regex=True))  # 여러 공백을 1칸으로\n",
    "\n",
    "# 6) 패딩(자릿수 맞추기) / 대소문자 변환\n",
    "nums = pd.Series([\"7\", \"42\", \"300\"])\n",
    "print(nums.str.zfill(4))     # '0007','0042','0300'\n",
    "print(dataSR.str.upper())"
   ]
  },
  {
   "cell_type": "markdown",
   "metadata": {},
   "source": [
    "[3] Series.dt 접근자 : 날짜/시간 관련 메서드들 <hr>"
   ]
  },
  {
   "cell_type": "code",
   "execution_count": 16,
   "metadata": {},
   "outputs": [
    {
     "data": {
      "text/plain": [
       "0      2025-10-01 08:30\n",
       "1      2025/10/02 21:15\n",
       "2    Oct 03, 2025 06:00\n",
       "3                  None\n",
       "dtype: object"
      ]
     },
     "metadata": {},
     "output_type": "display_data"
    }
   ],
   "source": [
    "## Series 인스턴스 생성\n",
    "dateSR = pd.Series([\n",
    "    \"2025-10-01 08:30\",\n",
    "    \"2025/10/02 21:15\",\n",
    "    \"Oct 03, 2025 06:00\",\n",
    "    None\n",
    "])\n",
    "\n",
    "display(dateSR)"
   ]
  },
  {
   "cell_type": "code",
   "execution_count": 50,
   "metadata": {},
   "outputs": [
    {
     "name": "stdout",
     "output_type": "stream",
     "text": [
      "0   2025-10-01 08:30:00\n",
      "1   2025-10-02 21:15:00\n",
      "2   2025-10-03 06:00:00\n",
      "3                   NaT\n",
      "dtype: datetime64[ns]\n"
     ]
    }
   ],
   "source": [
    "## 문자열 → datetime 타입 변환\n",
    "## pd.to_datetime() 함수\n",
    "## - format : strftime()로 지정하거나 각각 다르면 mixed\n",
    "## - errors : 변환 실패 시 처리 방법 [기] raise ==> coerce : NaT\n",
    "tsSR = pd.to_datetime(dateSR, format='mixed', errors=\"coerce\") \n",
    "print(tsSR)\n"
   ]
  },
  {
   "cell_type": "code",
   "execution_count": 51,
   "metadata": {},
   "outputs": [
    {
     "name": "stdout",
     "output_type": "stream",
     "text": [
      "0    2025.0\n",
      "1    2025.0\n",
      "2    2025.0\n",
      "3       NaN\n",
      "dtype: float64\n",
      "0    10.0\n",
      "1    10.0\n",
      "2    10.0\n",
      "3     NaN\n",
      "dtype: float64\n",
      "0    1.0\n",
      "1    2.0\n",
      "2    3.0\n",
      "3    NaN\n",
      "dtype: float64\n",
      "0    2.0\n",
      "1    3.0\n",
      "2    4.0\n",
      "3    NaN\n",
      "dtype: float64\n",
      "0    Wednesday\n",
      "1     Thursday\n",
      "2       Friday\n",
      "3          NaN\n",
      "dtype: object\n",
      "0     8.0\n",
      "1    21.0\n",
      "2     6.0\n",
      "3     NaN\n",
      "dtype: float64\n"
     ]
    }
   ],
   "source": [
    "## 1) 구성요소 뽑기\n",
    "print(tsSR.dt.year)        # 연도\n",
    "print(tsSR.dt.month)       # 월(숫자)\n",
    "print(tsSR.dt.day)         # 일\n",
    "print(tsSR.dt.weekday)     # 0(월)~6(일)\n",
    "print(tsSR.dt.day_name())  # 요일 이름\n",
    "print(tsSR.dt.hour)        # 시"
   ]
  },
  {
   "cell_type": "code",
   "execution_count": 52,
   "metadata": {},
   "outputs": [
    {
     "name": "stdout",
     "output_type": "stream",
     "text": [
      "0    2025/10/01 08:30\n",
      "1    2025/10/02 21:15\n",
      "2    2025/10/03 06:00\n",
      "3                 NaN\n",
      "dtype: object\n"
     ]
    }
   ],
   "source": [
    "# 2) 형식 문자열로 출력\n",
    "print(tsSR.dt.strftime(\"%Y/%m/%d %H:%M\"))   # 포맷팅"
   ]
  },
  {
   "cell_type": "code",
   "execution_count": 53,
   "metadata": {},
   "outputs": [
    {
     "name": "stdout",
     "output_type": "stream",
     "text": [
      "0     True\n",
      "1    False\n",
      "2    False\n",
      "3    False\n",
      "dtype: bool\n",
      "0    False\n",
      "1    False\n",
      "2    False\n",
      "3    False\n",
      "dtype: bool\n"
     ]
    }
   ],
   "source": [
    "## 3) 시계열 성질(월초/월말 등) 불리언\n",
    "print(tsSR.dt.is_month_start)\n",
    "print(tsSR.dt.is_month_end)"
   ]
  },
  {
   "cell_type": "code",
   "execution_count": null,
   "metadata": {},
   "outputs": [],
   "source": []
  },
  {
   "cell_type": "code",
   "execution_count": null,
   "metadata": {},
   "outputs": [],
   "source": []
  },
  {
   "cell_type": "code",
   "execution_count": null,
   "metadata": {},
   "outputs": [],
   "source": []
  },
  {
   "cell_type": "code",
   "execution_count": 21,
   "metadata": {},
   "outputs": [
    {
     "name": "stdout",
     "output_type": "stream",
     "text": [
      "0   2025-10-01\n",
      "1          NaT\n",
      "2          NaT\n",
      "3          NaT\n",
      "dtype: datetime64[ns]\n",
      "0   2025-10-01\n",
      "1          NaT\n",
      "2          NaT\n",
      "3          NaT\n",
      "dtype: datetime64[ns]\n",
      "0   2025-10-01 09:00:00\n",
      "1                   NaT\n",
      "2                   NaT\n",
      "3                   NaT\n",
      "dtype: datetime64[ns]\n"
     ]
    },
    {
     "name": "stderr",
     "output_type": "stream",
     "text": [
      "C:\\Users\\Public\\Documents\\ESTsoft\\CreatorTemp\\ipykernel_14876\\2893103921.py:4: FutureWarning: 'H' is deprecated and will be removed in a future version, please use 'h' instead.\n",
      "  print(tsSR.dt.ceil(\"H\"))                    # 시간 단위 올림\n"
     ]
    }
   ],
   "source": [
    "## 3) 시각 정규화/반올림\n",
    "print(tsSR.dt.normalize())                  # 시각 00:00:00으로\n",
    "print(tsSR.dt.floor(\"D\"))                   # 일 단위 내림\n",
    "print(tsSR.dt.ceil(\"H\"))                    # 시간 단위 올림"
   ]
  },
  {
   "cell_type": "code",
   "execution_count": null,
   "metadata": {},
   "outputs": [
    {
     "name": "stdout",
     "output_type": "stream",
     "text": [
      "0     True\n",
      "1    False\n",
      "2    False\n",
      "3    False\n",
      "dtype: bool\n",
      "0    False\n",
      "1    False\n",
      "2    False\n",
      "3    False\n",
      "dtype: bool\n"
     ]
    }
   ],
   "source": []
  },
  {
   "cell_type": "code",
   "execution_count": 22,
   "metadata": {},
   "outputs": [
    {
     "name": "stdout",
     "output_type": "stream",
     "text": [
      "0   2025-10-08 08:30:00\n",
      "1                   NaT\n",
      "2                   NaT\n",
      "3                   NaT\n",
      "dtype: datetime64[ns]\n",
      "0   8 days 15:30:00\n",
      "1               NaT\n",
      "2               NaT\n",
      "3               NaT\n",
      "dtype: timedelta64[ns]\n"
     ]
    }
   ],
   "source": [
    "\n",
    "\n",
    "\n",
    "\n",
    "\n",
    "\n",
    "\n",
    "\n",
    "\n",
    "## 5) 날짜 연산\n",
    "print(tsSR + pd.to_timedelta(7, unit=\"D\"))  # 모두 7일 뒤\n",
    "print((pd.Timestamp(\"2025-10-10\") - tsSR))  # 기준일과의 차이\n"
   ]
  }
 ],
 "metadata": {
  "kernelspec": {
   "display_name": "DATA_311",
   "language": "python",
   "name": "python3"
  },
  "language_info": {
   "codemirror_mode": {
    "name": "ipython",
    "version": 3
   },
   "file_extension": ".py",
   "mimetype": "text/x-python",
   "name": "python",
   "nbconvert_exporter": "python",
   "pygments_lexer": "ipython3",
   "version": "3.11.14"
  }
 },
 "nbformat": 4,
 "nbformat_minor": 2
}
