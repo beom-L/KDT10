{
 "cells": [
  {
   "cell_type": "markdown",
   "id": "942793a1",
   "metadata": {},
   "source": [
    "### [ Series 연산 ]\n",
    "- 종류\n",
    "    * Series 객체와 숫자 연산\n",
    "    * Series 객체와 Series 객체 연산\n",
    "    * Series 객체와 연산메서드"
   ]
  },
  {
   "cell_type": "code",
   "execution_count": 1,
   "id": "e8be16c5",
   "metadata": {},
   "outputs": [],
   "source": [
    "## 모듈\n",
    "import pandas as pd\n"
   ]
  },
  {
   "cell_type": "code",
   "execution_count": 2,
   "id": "fabe02d2",
   "metadata": {},
   "outputs": [
    {
     "data": {
      "text/plain": [
       "0    10\n",
       "1    20\n",
       "2    30\n",
       "dtype: int64"
      ]
     },
     "execution_count": 2,
     "metadata": {},
     "output_type": "execute_result"
    }
   ],
   "source": [
    "# 데이터 프레임 생성\n",
    "dataSR = pd.Series([10,20,30])\n",
    "dataSR"
   ]
  },
  {
   "cell_type": "markdown",
   "id": "503af563",
   "metadata": {},
   "source": [
    "[2] Series와 숫자 연산 <hr>"
   ]
  },
  {
   "cell_type": "code",
   "execution_count": null,
   "id": "746035ac",
   "metadata": {},
   "outputs": [
    {
     "name": "stdout",
     "output_type": "stream",
     "text": [
      "dataSR + 17 => \n",
      "0    27\n",
      "1    37\n",
      "2    47\n",
      "dtype: int64\n",
      "dataSR - 17 => \n",
      "0    -7\n",
      "1     3\n",
      "2    13\n",
      "dtype: int64\n",
      "dataSR * 17 => \n",
      "0    170\n",
      "1    340\n",
      "2    510\n",
      "dtype: int64\n",
      "dataSR / 17 => \n",
      "0    0.588235\n",
      "1    1.176471\n",
      "2    1.764706\n",
      "dtype: float64\n",
      "dataSR % 17 => \n",
      "0    10\n",
      "1     3\n",
      "2    13\n",
      "dtype: int64\n"
     ]
    }
   ],
   "source": [
    "## 원소 단위로 각각 계산 진행 ==> 결과\n",
    "ret1 = dataSR + 17\n",
    "ret2 = dataSR - 17\n",
    "ret3 = dataSR * 17\n",
    "ret4 = dataSR / 17\n",
    "ret5 = dataSR % 17\n",
    "\n",
    "print(f'dataSR + 17 => \\n{ret1}')\n",
    "print(f'dataSR - 17 => \\n{ret2}')\n",
    "print(f'dataSR * 17 => \\n{ret3}')\n",
    "print(f'dataSR / 17 => \\n{ret4}')\n",
    "print(f'dataSR % 17 => \\n{ret5}')"
   ]
  },
  {
   "cell_type": "markdown",
   "id": "6e83dce1",
   "metadata": {},
   "source": [
    "[3] Series와 Series 연산 <hr>\n",
    "- 동일 인덱스 원소끼리 연산 수행"
   ]
  },
  {
   "cell_type": "code",
   "execution_count": null,
   "id": "a27fd36a",
   "metadata": {},
   "outputs": [],
   "source": [
    "## 새로운 Series 객체 생성\n",
    "dataSR2 = pd.Series([5,8,2])\n",
    "dataSR3 = pd.Series([10,3,9], index=[0,2,3]) "
   ]
  },
  {
   "cell_type": "code",
   "execution_count": 11,
   "id": "2b3181b9",
   "metadata": {},
   "outputs": [
    {
     "name": "stdout",
     "output_type": "stream",
     "text": [
      "dataSR + dataSR2 => \n",
      "0    15\n",
      "1    28\n",
      "2    32\n",
      "dtype: int64\n",
      "dataSR - dataSR2 => \n",
      "0     5\n",
      "1    12\n",
      "2    28\n",
      "dtype: int64\n",
      "dataSR * dataSR2 => \n",
      "0     50\n",
      "1    160\n",
      "2     60\n",
      "dtype: int64\n",
      "dataSR / dataSR2 => \n",
      "0     2.0\n",
      "1     2.5\n",
      "2    15.0\n",
      "dtype: float64\n",
      "dataSR % dataSR2 => \n",
      "0    0\n",
      "1    4\n",
      "2    0\n",
      "dtype: int64\n"
     ]
    }
   ],
   "source": [
    "## => dataSR + dataSR2 연산 : 동일 인덱스 원소끼리 연산\n",
    "ret1 = dataSR + dataSR2\n",
    "ret2 = dataSR - dataSR2\n",
    "ret3 = dataSR * dataSR2\n",
    "ret4 = dataSR / dataSR2\n",
    "ret5 = dataSR % dataSR2\n",
    "\n",
    "print(f'dataSR + dataSR2 => \\n{ret1}')\n",
    "print(f'dataSR - dataSR2 => \\n{ret2}')\n",
    "print(f'dataSR * dataSR2 => \\n{ret3}')\n",
    "print(f'dataSR / dataSR2 => \\n{ret4}')\n",
    "print(f'dataSR % dataSR2 => \\n{ret5}')"
   ]
  },
  {
   "cell_type": "code",
   "execution_count": 12,
   "id": "cdd4e7d9",
   "metadata": {},
   "outputs": [
    {
     "name": "stdout",
     "output_type": "stream",
     "text": [
      "dataSR + dataSR3 => \n",
      "0    20.0\n",
      "1     NaN\n",
      "2    33.0\n",
      "3     NaN\n",
      "dtype: float64\n",
      "dataSR - dataSR3 => \n",
      "0     0.0\n",
      "1     NaN\n",
      "2    27.0\n",
      "3     NaN\n",
      "dtype: float64\n",
      "dataSR * dataSR3 => \n",
      "0    100.0\n",
      "1      NaN\n",
      "2     90.0\n",
      "3      NaN\n",
      "dtype: float64\n",
      "dataSR / dataSR3 => \n",
      "0     1.0\n",
      "1     NaN\n",
      "2    10.0\n",
      "3     NaN\n",
      "dtype: float64\n",
      "dataSR % dataSR3 => \n",
      "0    0.0\n",
      "1    NaN\n",
      "2    0.0\n",
      "3    NaN\n",
      "dtype: float64\n"
     ]
    }
   ],
   "source": [
    "## => dataSR + dataSR3 연산 : 동일 인덱스 원소끼리 연산\n",
    "##   [0, 1, 2] [0, 2, 3]\n",
    "ret1 = dataSR + dataSR3\n",
    "ret2 = dataSR - dataSR3\n",
    "ret3 = dataSR * dataSR3\n",
    "ret4 = dataSR / dataSR3\n",
    "ret5 = dataSR % dataSR3\n",
    "\n",
    "print(f'dataSR + dataSR3 => \\n{ret1}')\n",
    "print(f'dataSR - dataSR3 => \\n{ret2}')\n",
    "print(f'dataSR * dataSR3 => \\n{ret3}')\n",
    "print(f'dataSR / dataSR3 => \\n{ret4}')\n",
    "print(f'dataSR % dataSR3 => \\n{ret5}')"
   ]
  },
  {
   "cell_type": "markdown",
   "id": "0d8176f5",
   "metadata": {},
   "source": [
    "[4] Series와 연산 메서드 <hr>"
   ]
  },
  {
   "cell_type": "code",
   "execution_count": 13,
   "id": "3bfc8604",
   "metadata": {},
   "outputs": [
    {
     "name": "stdout",
     "output_type": "stream",
     "text": [
      "dataSR + dataSR3 => \n",
      "0    20.0\n",
      "1    20.0\n",
      "2    33.0\n",
      "3     9.0\n",
      "dtype: float64\n",
      "dataSR - dataSR3 => \n",
      "0     0.0\n",
      "1    20.0\n",
      "2    27.0\n",
      "3    -9.0\n",
      "dtype: float64\n",
      "dataSR * dataSR3 => \n",
      "0    100.0\n",
      "1      0.0\n",
      "2     90.0\n",
      "3      0.0\n",
      "dtype: float64\n",
      "dataSR / dataSR3 => \n",
      "0     1.0\n",
      "1     inf\n",
      "2    10.0\n",
      "3     0.0\n",
      "dtype: float64\n",
      "dataSR % dataSR3 => \n",
      "0    0.0\n",
      "1    NaN\n",
      "2    0.0\n",
      "3    0.0\n",
      "dtype: float64\n"
     ]
    }
   ],
   "source": [
    "## 인덱스가 같은 원소 없을 때 계산 불가 ==> 해결 : fill_value 매개변수\n",
    "ret1 = dataSR.add(dataSR3, fill_value=0)\n",
    "ret2 = dataSR.sub(dataSR3, fill_value=0)\n",
    "ret3 = dataSR.mul(dataSR3, fill_value=0)\n",
    "ret4 = dataSR.div(dataSR3, fill_value=0)\n",
    "ret5 = dataSR.mod(dataSR3, fill_value=0)\n",
    "\n",
    "print(f'dataSR + dataSR3 => \\n{ret1}')\n",
    "print(f'dataSR - dataSR3 => \\n{ret2}')\n",
    "print(f'dataSR * dataSR3 => \\n{ret3}')\n",
    "print(f'dataSR / dataSR3 => \\n{ret4}')\n",
    "print(f'dataSR % dataSR3 => \\n{ret5}')"
   ]
  },
  {
   "cell_type": "code",
   "execution_count": null,
   "id": "6ff655b9",
   "metadata": {},
   "outputs": [],
   "source": []
  }
 ],
 "metadata": {
  "kernelspec": {
   "display_name": "DATA_311",
   "language": "python",
   "name": "python3"
  },
  "language_info": {
   "codemirror_mode": {
    "name": "ipython",
    "version": 3
   },
   "file_extension": ".py",
   "mimetype": "text/x-python",
   "name": "python",
   "nbconvert_exporter": "python",
   "pygments_lexer": "ipython3",
   "version": "3.11.13"
  }
 },
 "nbformat": 4,
 "nbformat_minor": 5
}
