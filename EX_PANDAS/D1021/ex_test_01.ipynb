{
 "cells": [
  {
   "cell_type": "markdown",
   "id": "5cb3b6b5",
   "metadata": {},
   "source": [
    "### [ Series/DataFrame 다루기 ]\n",
    "- Series/DataFrame의 속성 읽기/변경 \n",
    "- Series/DataFrame 행인덱스/열이름 전체/부분변경    : rename(index, columns, inplace)  ## 행이름 부분 변경\n",
    "- Series/DataFrame 행/열 축 이름 설정   : rename_axis(index, columns, inplace)  ## 행/열 방향 이름 설정\n",
    "- Series/DataFrame 행/열 삭제  : drop(labels, axis, index, columns, inplace)\n",
    "- 기억 매개변수\n",
    "    * axis : 행과 열 방향 설정 매개변수\n",
    "        - 0 -> 행(가로) 방향\n",
    "        - 1 -> 열(세로) 방향\n",
    "    * inplace : 원본 데이터 유지 여부 설정\n",
    "        - False -> 기본값, 원본 유지. 복사본으로 작업 후 반환\n",
    "        - True  -> 원본으로 작업 진행. 반환값 None"
   ]
  },
  {
   "cell_type": "code",
   "execution_count": 1,
   "id": "38a38376",
   "metadata": {},
   "outputs": [],
   "source": [
    "## 모듈 로딩\n",
    "import pandas as pd\n"
   ]
  },
  {
   "cell_type": "code",
   "execution_count": 2,
   "id": "b6317a89",
   "metadata": {},
   "outputs": [
    {
     "data": {
      "text/html": [
       "<div>\n",
       "<style scoped>\n",
       "    .dataframe tbody tr th:only-of-type {\n",
       "        vertical-align: middle;\n",
       "    }\n",
       "\n",
       "    .dataframe tbody tr th {\n",
       "        vertical-align: top;\n",
       "    }\n",
       "\n",
       "    .dataframe thead th {\n",
       "        text-align: right;\n",
       "    }\n",
       "</style>\n",
       "<table border=\"1\" class=\"dataframe\">\n",
       "  <thead>\n",
       "    <tr style=\"text-align: right;\">\n",
       "      <th></th>\n",
       "      <th>id</th>\n",
       "      <th>value1</th>\n",
       "      <th>value2</th>\n",
       "    </tr>\n",
       "  </thead>\n",
       "  <tbody>\n",
       "    <tr>\n",
       "      <th>0</th>\n",
       "      <td>1</td>\n",
       "      <td>20</td>\n",
       "      <td>3.40</td>\n",
       "    </tr>\n",
       "    <tr>\n",
       "      <th>1</th>\n",
       "      <td>2</td>\n",
       "      <td>12</td>\n",
       "      <td>2.10</td>\n",
       "    </tr>\n",
       "    <tr>\n",
       "      <th>2</th>\n",
       "      <td>3</td>\n",
       "      <td>11</td>\n",
       "      <td>9.70</td>\n",
       "    </tr>\n",
       "    <tr>\n",
       "      <th>3</th>\n",
       "      <td>4</td>\n",
       "      <td>9</td>\n",
       "      <td>0.12</td>\n",
       "    </tr>\n",
       "    <tr>\n",
       "      <th>4</th>\n",
       "      <td>5</td>\n",
       "      <td>31</td>\n",
       "      <td>9.99</td>\n",
       "    </tr>\n",
       "  </tbody>\n",
       "</table>\n",
       "</div>"
      ],
      "text/plain": [
       "   id  value1  value2\n",
       "0   1      20    3.40\n",
       "1   2      12    2.10\n",
       "2   3      11    9.70\n",
       "3   4       9    0.12\n",
       "4   5      31    9.99"
      ]
     },
     "metadata": {},
     "output_type": "display_data"
    }
   ],
   "source": [
    "## 데이터 준비 : json ==> DataFrame\n",
    "dataDF = pd.read_json('../Data/test.json')\n",
    "\n",
    "display(dataDF)"
   ]
  },
  {
   "cell_type": "markdown",
   "id": "2d363ce0",
   "metadata": {},
   "source": [
    "[실습 문제] <hr>"
   ]
  },
  {
   "cell_type": "code",
   "execution_count": 3,
   "id": "2eeb1a9e",
   "metadata": {},
   "outputs": [
    {
     "name": "stdout",
     "output_type": "stream",
     "text": [
      "    id  value1  value2\n",
      "하나   1      20    3.40\n",
      "둘    2      12    2.10\n",
      "셋    3      11    9.70\n",
      "넷    4       9    0.12\n",
      "다섯   5      31    9.99\n"
     ]
    }
   ],
   "source": [
    "## [1] 행 인덱스를 변경\n",
    "## [0,1,2,3,4] ==> ['하나', '둘', '셋', '넷', '다섯']\n",
    "dataDF.index=['하나', '둘', '셋', '넷', '다섯']\n",
    "\n",
    "print(dataDF)\n"
   ]
  },
  {
   "cell_type": "code",
   "execution_count": 4,
   "id": "d171419c",
   "metadata": {},
   "outputs": [
    {
     "name": "stdout",
     "output_type": "stream",
     "text": [
      "    id  v1    v2\n",
      "하나   1  20  3.40\n",
      "둘    2  12  2.10\n",
      "셋    3  11  9.70\n",
      "넷    4   9  0.12\n",
      "다섯   5  31  9.99\n"
     ]
    }
   ],
   "source": [
    "## [2] 컬럼변경\n",
    "## 'id', 'value1', 'value2' ==> 'id', 'v1', 'v2'\n",
    "dataDF.columns=['id', 'v1', 'v2']\n",
    "print(dataDF)\n"
   ]
  },
  {
   "cell_type": "code",
   "execution_count": 5,
   "id": "bb9e035d",
   "metadata": {},
   "outputs": [
    {
     "name": "stdout",
     "output_type": "stream",
     "text": [
      "    id  v1    v2\n",
      "하나   1  20  3.40\n",
      "셋    3  11  9.70\n",
      "다섯   5  31  9.99\n"
     ]
    }
   ],
   "source": [
    "# [3] '둘', '넷'에 해당하는 행을 삭제\n",
    "#      단, 원본은 손상 X\n",
    "dataDF1 = dataDF.drop(index=['둘','넷'])\n",
    "print(dataDF1)\n"
   ]
  },
  {
   "cell_type": "code",
   "execution_count": 6,
   "id": "c2ad0d72",
   "metadata": {},
   "outputs": [
    {
     "data": {
      "text/html": [
       "<div>\n",
       "<style scoped>\n",
       "    .dataframe tbody tr th:only-of-type {\n",
       "        vertical-align: middle;\n",
       "    }\n",
       "\n",
       "    .dataframe tbody tr th {\n",
       "        vertical-align: top;\n",
       "    }\n",
       "\n",
       "    .dataframe thead th {\n",
       "        text-align: right;\n",
       "    }\n",
       "</style>\n",
       "<table border=\"1\" class=\"dataframe\">\n",
       "  <thead>\n",
       "    <tr style=\"text-align: right;\">\n",
       "      <th></th>\n",
       "      <th>id</th>\n",
       "      <th>value1</th>\n",
       "      <th>value2</th>\n",
       "    </tr>\n",
       "  </thead>\n",
       "  <tbody>\n",
       "    <tr>\n",
       "      <th>0</th>\n",
       "      <td>1</td>\n",
       "      <td>20</td>\n",
       "      <td>3.40</td>\n",
       "    </tr>\n",
       "    <tr>\n",
       "      <th>1</th>\n",
       "      <td>2</td>\n",
       "      <td>12</td>\n",
       "      <td>2.10</td>\n",
       "    </tr>\n",
       "    <tr>\n",
       "      <th>2</th>\n",
       "      <td>3</td>\n",
       "      <td>11</td>\n",
       "      <td>9.70</td>\n",
       "    </tr>\n",
       "    <tr>\n",
       "      <th>3</th>\n",
       "      <td>4</td>\n",
       "      <td>9</td>\n",
       "      <td>0.12</td>\n",
       "    </tr>\n",
       "    <tr>\n",
       "      <th>4</th>\n",
       "      <td>5</td>\n",
       "      <td>31</td>\n",
       "      <td>9.99</td>\n",
       "    </tr>\n",
       "  </tbody>\n",
       "</table>\n",
       "</div>"
      ],
      "text/plain": [
       "   id  value1  value2\n",
       "0   1      20    3.40\n",
       "1   2      12    2.10\n",
       "2   3      11    9.70\n",
       "3   4       9    0.12\n",
       "4   5      31    9.99"
      ]
     },
     "metadata": {},
     "output_type": "display_data"
    },
    {
     "name": "stdout",
     "output_type": "stream",
     "text": [
      "   ID  DATA\n",
      "A   1   3.4\n",
      "B   2   2.1\n",
      "C   3   9.7\n"
     ]
    }
   ],
   "source": [
    "## 데이터 준비 : json ==> DataFrame\n",
    "dataDF = pd.read_json('../Data/test.json')\n",
    "\n",
    "display(dataDF)\n",
    "\n",
    "## [4] 아래와 같은 결과가 나오도록 코드 작성하세요.\n",
    "#   id\tvalue1\tvalue2\n",
    "# 0\t1\t20\t3.40\n",
    "# 1\t2\t12\t2.10\n",
    "# 2\t3\t11\t9.70\n",
    "# 3\t4\t9\t0.12\n",
    "# 4\t5\t31\t9.99\n",
    "\n",
    "\n",
    "#   ID\tDATA\n",
    "# A\t1\t3.40\n",
    "# B\t2\t2.10\n",
    "# C\t3\t9.70\n",
    "\n",
    "dataDF.drop(index=[3,4], columns='value1', inplace=True)\n",
    "a = {'id':'ID', 'value2':'DATA'}\n",
    "b = {0:'A', 1:'B', 2:'C'}\n",
    "dataDF.rename(columns=a, inplace=True)\n",
    "dataDF.rename(index=b, inplace=True)\n",
    "print(dataDF)\n",
    "\n"
   ]
  },
  {
   "cell_type": "code",
   "execution_count": null,
   "id": "cb6d6042",
   "metadata": {},
   "outputs": [],
   "source": []
  }
 ],
 "metadata": {
  "kernelspec": {
   "display_name": "DATA_311",
   "language": "python",
   "name": "python3"
  },
  "language_info": {
   "codemirror_mode": {
    "name": "ipython",
    "version": 3
   },
   "file_extension": ".py",
   "mimetype": "text/x-python",
   "name": "python",
   "nbconvert_exporter": "python",
   "pygments_lexer": "ipython3",
   "version": "3.11.13"
  }
 },
 "nbformat": 4,
 "nbformat_minor": 5
}
